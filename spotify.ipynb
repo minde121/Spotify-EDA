{
 "cells": [
  {
   "cell_type": "markdown",
   "metadata": {},
   "source": [
    "# <center>Top 50 Spotify Tracks of 2020 analysis</center>"
   ]
  },
  {
   "cell_type": "markdown",
   "metadata": {},
   "source": [
    "## <center>Introduction</center>"
   ]
  },
  {
   "cell_type": "markdown",
   "metadata": {},
   "source": [
    "<center>Welcome to Top 50 spotify tracks of 2020 analysis. This notebook is focused on showing knowgladge related to data analysis, linear algebra, NumPy, and Pandas while conducting analysis<center>"
   ]
  },
  {
   "cell_type": "markdown",
   "metadata": {},
   "source": [
    "## <center>Import Libraries</center>"
   ]
  },
  {
   "cell_type": "markdown",
   "metadata": {},
   "source": [
    "In this analysis we use 3 types of libraries. **Numpy** and __Pandas__ are used for data manipulations, __matplot__ and __seaborn__ are used for ploting and __scipy__ is used to find needed correlations. Also __warnings__ library is used but it's only purpouse is to hide not meaningfull warning messages."
   ]
  },
  {
   "cell_type": "code",
   "execution_count": 22,
   "metadata": {},
   "outputs": [],
   "source": [
    "import numpy as np \n",
    "import pandas as pd\n",
    "import matplotlib.pyplot as plt\n",
    "import seaborn as sns\n",
    "from scipy.stats import zscore\n",
    "import warnings"
   ]
  },
  {
   "cell_type": "markdown",
   "metadata": {},
   "source": [
    "## <center>Load the Dataset<center>"
   ]
  },
  {
   "cell_type": "markdown",
   "metadata": {},
   "source": [
    "For this analysis we are using **Top 50 Spotify Tracks of 2020** dataset that can be found on [Kaggle](https://www.kaggle.com/datasets/atillacolak/top-50-spotify-tracks-2020)."
   ]
  },
  {
   "cell_type": "code",
   "execution_count": 23,
   "metadata": {},
   "outputs": [
    {
     "data": {
      "text/html": [
       "<div>\n",
       "<style scoped>\n",
       "    .dataframe tbody tr th:only-of-type {\n",
       "        vertical-align: middle;\n",
       "    }\n",
       "\n",
       "    .dataframe tbody tr th {\n",
       "        vertical-align: top;\n",
       "    }\n",
       "\n",
       "    .dataframe thead th {\n",
       "        text-align: right;\n",
       "    }\n",
       "</style>\n",
       "<table border=\"1\" class=\"dataframe\">\n",
       "  <thead>\n",
       "    <tr style=\"text-align: right;\">\n",
       "      <th></th>\n",
       "      <th>Unnamed: 0</th>\n",
       "      <th>artist</th>\n",
       "      <th>album</th>\n",
       "      <th>track_name</th>\n",
       "      <th>track_id</th>\n",
       "      <th>energy</th>\n",
       "      <th>danceability</th>\n",
       "      <th>key</th>\n",
       "      <th>loudness</th>\n",
       "      <th>acousticness</th>\n",
       "      <th>speechiness</th>\n",
       "      <th>instrumentalness</th>\n",
       "      <th>liveness</th>\n",
       "      <th>valence</th>\n",
       "      <th>tempo</th>\n",
       "      <th>duration_ms</th>\n",
       "      <th>genre</th>\n",
       "    </tr>\n",
       "  </thead>\n",
       "  <tbody>\n",
       "    <tr>\n",
       "      <th>0</th>\n",
       "      <td>0</td>\n",
       "      <td>The Weeknd</td>\n",
       "      <td>After Hours</td>\n",
       "      <td>Blinding Lights</td>\n",
       "      <td>0VjIjW4GlUZAMYd2vXMi3b</td>\n",
       "      <td>0.730</td>\n",
       "      <td>0.514</td>\n",
       "      <td>1</td>\n",
       "      <td>-5.934</td>\n",
       "      <td>0.00146</td>\n",
       "      <td>0.0598</td>\n",
       "      <td>0.000095</td>\n",
       "      <td>0.0897</td>\n",
       "      <td>0.334</td>\n",
       "      <td>171.005</td>\n",
       "      <td>200040</td>\n",
       "      <td>R&amp;B/Soul</td>\n",
       "    </tr>\n",
       "    <tr>\n",
       "      <th>1</th>\n",
       "      <td>1</td>\n",
       "      <td>Tones And I</td>\n",
       "      <td>Dance Monkey</td>\n",
       "      <td>Dance Monkey</td>\n",
       "      <td>1rgnBhdG2JDFTbYkYRZAku</td>\n",
       "      <td>0.593</td>\n",
       "      <td>0.825</td>\n",
       "      <td>6</td>\n",
       "      <td>-6.401</td>\n",
       "      <td>0.68800</td>\n",
       "      <td>0.0988</td>\n",
       "      <td>0.000161</td>\n",
       "      <td>0.1700</td>\n",
       "      <td>0.540</td>\n",
       "      <td>98.078</td>\n",
       "      <td>209755</td>\n",
       "      <td>Alternative/Indie</td>\n",
       "    </tr>\n",
       "    <tr>\n",
       "      <th>2</th>\n",
       "      <td>2</td>\n",
       "      <td>Roddy Ricch</td>\n",
       "      <td>Please Excuse Me For Being Antisocial</td>\n",
       "      <td>The Box</td>\n",
       "      <td>0nbXyq5TXYPCO7pr3N8S4I</td>\n",
       "      <td>0.586</td>\n",
       "      <td>0.896</td>\n",
       "      <td>10</td>\n",
       "      <td>-6.687</td>\n",
       "      <td>0.10400</td>\n",
       "      <td>0.0559</td>\n",
       "      <td>0.000000</td>\n",
       "      <td>0.7900</td>\n",
       "      <td>0.642</td>\n",
       "      <td>116.971</td>\n",
       "      <td>196653</td>\n",
       "      <td>Hip-Hop/Rap</td>\n",
       "    </tr>\n",
       "    <tr>\n",
       "      <th>3</th>\n",
       "      <td>3</td>\n",
       "      <td>SAINt JHN</td>\n",
       "      <td>Roses (Imanbek Remix)</td>\n",
       "      <td>Roses - Imanbek Remix</td>\n",
       "      <td>2Wo6QQD1KMDWeFkkjLqwx5</td>\n",
       "      <td>0.721</td>\n",
       "      <td>0.785</td>\n",
       "      <td>8</td>\n",
       "      <td>-5.457</td>\n",
       "      <td>0.01490</td>\n",
       "      <td>0.0506</td>\n",
       "      <td>0.004320</td>\n",
       "      <td>0.2850</td>\n",
       "      <td>0.894</td>\n",
       "      <td>121.962</td>\n",
       "      <td>176219</td>\n",
       "      <td>Dance/Electronic</td>\n",
       "    </tr>\n",
       "    <tr>\n",
       "      <th>4</th>\n",
       "      <td>4</td>\n",
       "      <td>Dua Lipa</td>\n",
       "      <td>Future Nostalgia</td>\n",
       "      <td>Don't Start Now</td>\n",
       "      <td>3PfIrDoz19wz7qK7tYeu62</td>\n",
       "      <td>0.793</td>\n",
       "      <td>0.793</td>\n",
       "      <td>11</td>\n",
       "      <td>-4.521</td>\n",
       "      <td>0.01230</td>\n",
       "      <td>0.0830</td>\n",
       "      <td>0.000000</td>\n",
       "      <td>0.0951</td>\n",
       "      <td>0.679</td>\n",
       "      <td>123.950</td>\n",
       "      <td>183290</td>\n",
       "      <td>Nu-disco</td>\n",
       "    </tr>\n",
       "  </tbody>\n",
       "</table>\n",
       "</div>"
      ],
      "text/plain": [
       "   Unnamed: 0       artist                                  album  \\\n",
       "0           0   The Weeknd                            After Hours   \n",
       "1           1  Tones And I                           Dance Monkey   \n",
       "2           2  Roddy Ricch  Please Excuse Me For Being Antisocial   \n",
       "3           3    SAINt JHN                  Roses (Imanbek Remix)   \n",
       "4           4     Dua Lipa                       Future Nostalgia   \n",
       "\n",
       "              track_name                track_id  energy  danceability  key  \\\n",
       "0        Blinding Lights  0VjIjW4GlUZAMYd2vXMi3b   0.730         0.514    1   \n",
       "1           Dance Monkey  1rgnBhdG2JDFTbYkYRZAku   0.593         0.825    6   \n",
       "2                The Box  0nbXyq5TXYPCO7pr3N8S4I   0.586         0.896   10   \n",
       "3  Roses - Imanbek Remix  2Wo6QQD1KMDWeFkkjLqwx5   0.721         0.785    8   \n",
       "4        Don't Start Now  3PfIrDoz19wz7qK7tYeu62   0.793         0.793   11   \n",
       "\n",
       "   loudness  acousticness  speechiness  instrumentalness  liveness  valence  \\\n",
       "0    -5.934       0.00146       0.0598          0.000095    0.0897    0.334   \n",
       "1    -6.401       0.68800       0.0988          0.000161    0.1700    0.540   \n",
       "2    -6.687       0.10400       0.0559          0.000000    0.7900    0.642   \n",
       "3    -5.457       0.01490       0.0506          0.004320    0.2850    0.894   \n",
       "4    -4.521       0.01230       0.0830          0.000000    0.0951    0.679   \n",
       "\n",
       "     tempo  duration_ms              genre  \n",
       "0  171.005       200040           R&B/Soul  \n",
       "1   98.078       209755  Alternative/Indie  \n",
       "2  116.971       196653        Hip-Hop/Rap  \n",
       "3  121.962       176219   Dance/Electronic  \n",
       "4  123.950       183290           Nu-disco  "
      ]
     },
     "execution_count": 23,
     "metadata": {},
     "output_type": "execute_result"
    }
   ],
   "source": [
    "warnings.simplefilter(action='ignore', category=FutureWarning)  # Removes unimportant warning messages to increase readabilaty\n",
    "spotify_data= pd.read_csv('datasets/spotifytoptracks.csv')      # Loading in data set\n",
    "spotify_data.head()                                             # Check if data loaded correctly"
   ]
  },
  {
   "cell_type": "markdown",
   "metadata": {},
   "source": [
    "## <center>Data cleaning<center>"
   ]
  },
  {
   "cell_type": "markdown",
   "metadata": {},
   "source": [
    "### <center> Renaming ambigious column names <center>"
   ]
  },
  {
   "cell_type": "markdown",
   "metadata": {},
   "source": [
    "Our current dataset has ambigiously names collumn \"Unnaamed: 0\" which basicly contains index values. For this reason column is renamed Id."
   ]
  },
  {
   "cell_type": "code",
   "execution_count": 24,
   "metadata": {},
   "outputs": [
    {
     "data": {
      "text/html": [
       "<div>\n",
       "<style scoped>\n",
       "    .dataframe tbody tr th:only-of-type {\n",
       "        vertical-align: middle;\n",
       "    }\n",
       "\n",
       "    .dataframe tbody tr th {\n",
       "        vertical-align: top;\n",
       "    }\n",
       "\n",
       "    .dataframe thead th {\n",
       "        text-align: right;\n",
       "    }\n",
       "</style>\n",
       "<table border=\"1\" class=\"dataframe\">\n",
       "  <thead>\n",
       "    <tr style=\"text-align: right;\">\n",
       "      <th></th>\n",
       "      <th>Id</th>\n",
       "      <th>artist</th>\n",
       "      <th>album</th>\n",
       "      <th>track_name</th>\n",
       "      <th>track_id</th>\n",
       "      <th>energy</th>\n",
       "      <th>danceability</th>\n",
       "      <th>key</th>\n",
       "      <th>loudness</th>\n",
       "      <th>acousticness</th>\n",
       "      <th>speechiness</th>\n",
       "      <th>instrumentalness</th>\n",
       "      <th>liveness</th>\n",
       "      <th>valence</th>\n",
       "      <th>tempo</th>\n",
       "      <th>duration_ms</th>\n",
       "      <th>genre</th>\n",
       "    </tr>\n",
       "  </thead>\n",
       "  <tbody>\n",
       "    <tr>\n",
       "      <th>0</th>\n",
       "      <td>0</td>\n",
       "      <td>The Weeknd</td>\n",
       "      <td>After Hours</td>\n",
       "      <td>Blinding Lights</td>\n",
       "      <td>0VjIjW4GlUZAMYd2vXMi3b</td>\n",
       "      <td>0.730</td>\n",
       "      <td>0.514</td>\n",
       "      <td>1</td>\n",
       "      <td>-5.934</td>\n",
       "      <td>0.00146</td>\n",
       "      <td>0.0598</td>\n",
       "      <td>0.000095</td>\n",
       "      <td>0.0897</td>\n",
       "      <td>0.334</td>\n",
       "      <td>171.005</td>\n",
       "      <td>200040</td>\n",
       "      <td>R&amp;B/Soul</td>\n",
       "    </tr>\n",
       "    <tr>\n",
       "      <th>1</th>\n",
       "      <td>1</td>\n",
       "      <td>Tones And I</td>\n",
       "      <td>Dance Monkey</td>\n",
       "      <td>Dance Monkey</td>\n",
       "      <td>1rgnBhdG2JDFTbYkYRZAku</td>\n",
       "      <td>0.593</td>\n",
       "      <td>0.825</td>\n",
       "      <td>6</td>\n",
       "      <td>-6.401</td>\n",
       "      <td>0.68800</td>\n",
       "      <td>0.0988</td>\n",
       "      <td>0.000161</td>\n",
       "      <td>0.1700</td>\n",
       "      <td>0.540</td>\n",
       "      <td>98.078</td>\n",
       "      <td>209755</td>\n",
       "      <td>Alternative/Indie</td>\n",
       "    </tr>\n",
       "    <tr>\n",
       "      <th>2</th>\n",
       "      <td>2</td>\n",
       "      <td>Roddy Ricch</td>\n",
       "      <td>Please Excuse Me For Being Antisocial</td>\n",
       "      <td>The Box</td>\n",
       "      <td>0nbXyq5TXYPCO7pr3N8S4I</td>\n",
       "      <td>0.586</td>\n",
       "      <td>0.896</td>\n",
       "      <td>10</td>\n",
       "      <td>-6.687</td>\n",
       "      <td>0.10400</td>\n",
       "      <td>0.0559</td>\n",
       "      <td>0.000000</td>\n",
       "      <td>0.7900</td>\n",
       "      <td>0.642</td>\n",
       "      <td>116.971</td>\n",
       "      <td>196653</td>\n",
       "      <td>Hip-Hop/Rap</td>\n",
       "    </tr>\n",
       "    <tr>\n",
       "      <th>3</th>\n",
       "      <td>3</td>\n",
       "      <td>SAINt JHN</td>\n",
       "      <td>Roses (Imanbek Remix)</td>\n",
       "      <td>Roses - Imanbek Remix</td>\n",
       "      <td>2Wo6QQD1KMDWeFkkjLqwx5</td>\n",
       "      <td>0.721</td>\n",
       "      <td>0.785</td>\n",
       "      <td>8</td>\n",
       "      <td>-5.457</td>\n",
       "      <td>0.01490</td>\n",
       "      <td>0.0506</td>\n",
       "      <td>0.004320</td>\n",
       "      <td>0.2850</td>\n",
       "      <td>0.894</td>\n",
       "      <td>121.962</td>\n",
       "      <td>176219</td>\n",
       "      <td>Dance/Electronic</td>\n",
       "    </tr>\n",
       "    <tr>\n",
       "      <th>4</th>\n",
       "      <td>4</td>\n",
       "      <td>Dua Lipa</td>\n",
       "      <td>Future Nostalgia</td>\n",
       "      <td>Don't Start Now</td>\n",
       "      <td>3PfIrDoz19wz7qK7tYeu62</td>\n",
       "      <td>0.793</td>\n",
       "      <td>0.793</td>\n",
       "      <td>11</td>\n",
       "      <td>-4.521</td>\n",
       "      <td>0.01230</td>\n",
       "      <td>0.0830</td>\n",
       "      <td>0.000000</td>\n",
       "      <td>0.0951</td>\n",
       "      <td>0.679</td>\n",
       "      <td>123.950</td>\n",
       "      <td>183290</td>\n",
       "      <td>Nu-disco</td>\n",
       "    </tr>\n",
       "  </tbody>\n",
       "</table>\n",
       "</div>"
      ],
      "text/plain": [
       "   Id       artist                                  album  \\\n",
       "0   0   The Weeknd                            After Hours   \n",
       "1   1  Tones And I                           Dance Monkey   \n",
       "2   2  Roddy Ricch  Please Excuse Me For Being Antisocial   \n",
       "3   3    SAINt JHN                  Roses (Imanbek Remix)   \n",
       "4   4     Dua Lipa                       Future Nostalgia   \n",
       "\n",
       "              track_name                track_id  energy  danceability  key  \\\n",
       "0        Blinding Lights  0VjIjW4GlUZAMYd2vXMi3b   0.730         0.514    1   \n",
       "1           Dance Monkey  1rgnBhdG2JDFTbYkYRZAku   0.593         0.825    6   \n",
       "2                The Box  0nbXyq5TXYPCO7pr3N8S4I   0.586         0.896   10   \n",
       "3  Roses - Imanbek Remix  2Wo6QQD1KMDWeFkkjLqwx5   0.721         0.785    8   \n",
       "4        Don't Start Now  3PfIrDoz19wz7qK7tYeu62   0.793         0.793   11   \n",
       "\n",
       "   loudness  acousticness  speechiness  instrumentalness  liveness  valence  \\\n",
       "0    -5.934       0.00146       0.0598          0.000095    0.0897    0.334   \n",
       "1    -6.401       0.68800       0.0988          0.000161    0.1700    0.540   \n",
       "2    -6.687       0.10400       0.0559          0.000000    0.7900    0.642   \n",
       "3    -5.457       0.01490       0.0506          0.004320    0.2850    0.894   \n",
       "4    -4.521       0.01230       0.0830          0.000000    0.0951    0.679   \n",
       "\n",
       "     tempo  duration_ms              genre  \n",
       "0  171.005       200040           R&B/Soul  \n",
       "1   98.078       209755  Alternative/Indie  \n",
       "2  116.971       196653        Hip-Hop/Rap  \n",
       "3  121.962       176219   Dance/Electronic  \n",
       "4  123.950       183290           Nu-disco  "
      ]
     },
     "execution_count": 24,
     "metadata": {},
     "output_type": "execute_result"
    }
   ],
   "source": [
    "spotify_data.rename(columns={'Unnamed: 0': 'Id'}, inplace=True)\n",
    "spotify_data.head()"
   ]
  },
  {
   "cell_type": "markdown",
   "metadata": {},
   "source": [
    "### <center> removing redundant columns and seting new index<center>"
   ]
  },
  {
   "cell_type": "markdown",
   "metadata": {},
   "source": [
    "At this stage dataset has 2 columns containing indexing values, for this reason we are setting \"Id\" as indexing column and drop default one from the dataset. Also \"key\" and \"track_id\" are being removed, because they have no purpouse in our analysis."
   ]
  },
  {
   "cell_type": "code",
   "execution_count": 25,
   "metadata": {},
   "outputs": [
    {
     "data": {
      "text/html": [
       "<div>\n",
       "<style scoped>\n",
       "    .dataframe tbody tr th:only-of-type {\n",
       "        vertical-align: middle;\n",
       "    }\n",
       "\n",
       "    .dataframe tbody tr th {\n",
       "        vertical-align: top;\n",
       "    }\n",
       "\n",
       "    .dataframe thead th {\n",
       "        text-align: right;\n",
       "    }\n",
       "</style>\n",
       "<table border=\"1\" class=\"dataframe\">\n",
       "  <thead>\n",
       "    <tr style=\"text-align: right;\">\n",
       "      <th></th>\n",
       "      <th>artist</th>\n",
       "      <th>album</th>\n",
       "      <th>track_name</th>\n",
       "      <th>energy</th>\n",
       "      <th>danceability</th>\n",
       "      <th>loudness</th>\n",
       "      <th>acousticness</th>\n",
       "      <th>speechiness</th>\n",
       "      <th>instrumentalness</th>\n",
       "      <th>liveness</th>\n",
       "      <th>valence</th>\n",
       "      <th>tempo</th>\n",
       "      <th>duration_ms</th>\n",
       "      <th>genre</th>\n",
       "    </tr>\n",
       "    <tr>\n",
       "      <th>Id</th>\n",
       "      <th></th>\n",
       "      <th></th>\n",
       "      <th></th>\n",
       "      <th></th>\n",
       "      <th></th>\n",
       "      <th></th>\n",
       "      <th></th>\n",
       "      <th></th>\n",
       "      <th></th>\n",
       "      <th></th>\n",
       "      <th></th>\n",
       "      <th></th>\n",
       "      <th></th>\n",
       "      <th></th>\n",
       "    </tr>\n",
       "  </thead>\n",
       "  <tbody>\n",
       "    <tr>\n",
       "      <th>0</th>\n",
       "      <td>The Weeknd</td>\n",
       "      <td>After Hours</td>\n",
       "      <td>Blinding Lights</td>\n",
       "      <td>0.730</td>\n",
       "      <td>0.514</td>\n",
       "      <td>-5.934</td>\n",
       "      <td>0.00146</td>\n",
       "      <td>0.0598</td>\n",
       "      <td>0.000095</td>\n",
       "      <td>0.0897</td>\n",
       "      <td>0.334</td>\n",
       "      <td>171.005</td>\n",
       "      <td>200040</td>\n",
       "      <td>R&amp;B/Soul</td>\n",
       "    </tr>\n",
       "    <tr>\n",
       "      <th>1</th>\n",
       "      <td>Tones And I</td>\n",
       "      <td>Dance Monkey</td>\n",
       "      <td>Dance Monkey</td>\n",
       "      <td>0.593</td>\n",
       "      <td>0.825</td>\n",
       "      <td>-6.401</td>\n",
       "      <td>0.68800</td>\n",
       "      <td>0.0988</td>\n",
       "      <td>0.000161</td>\n",
       "      <td>0.1700</td>\n",
       "      <td>0.540</td>\n",
       "      <td>98.078</td>\n",
       "      <td>209755</td>\n",
       "      <td>Alternative/Indie</td>\n",
       "    </tr>\n",
       "    <tr>\n",
       "      <th>2</th>\n",
       "      <td>Roddy Ricch</td>\n",
       "      <td>Please Excuse Me For Being Antisocial</td>\n",
       "      <td>The Box</td>\n",
       "      <td>0.586</td>\n",
       "      <td>0.896</td>\n",
       "      <td>-6.687</td>\n",
       "      <td>0.10400</td>\n",
       "      <td>0.0559</td>\n",
       "      <td>0.000000</td>\n",
       "      <td>0.7900</td>\n",
       "      <td>0.642</td>\n",
       "      <td>116.971</td>\n",
       "      <td>196653</td>\n",
       "      <td>Hip-Hop/Rap</td>\n",
       "    </tr>\n",
       "    <tr>\n",
       "      <th>3</th>\n",
       "      <td>SAINt JHN</td>\n",
       "      <td>Roses (Imanbek Remix)</td>\n",
       "      <td>Roses - Imanbek Remix</td>\n",
       "      <td>0.721</td>\n",
       "      <td>0.785</td>\n",
       "      <td>-5.457</td>\n",
       "      <td>0.01490</td>\n",
       "      <td>0.0506</td>\n",
       "      <td>0.004320</td>\n",
       "      <td>0.2850</td>\n",
       "      <td>0.894</td>\n",
       "      <td>121.962</td>\n",
       "      <td>176219</td>\n",
       "      <td>Dance/Electronic</td>\n",
       "    </tr>\n",
       "    <tr>\n",
       "      <th>4</th>\n",
       "      <td>Dua Lipa</td>\n",
       "      <td>Future Nostalgia</td>\n",
       "      <td>Don't Start Now</td>\n",
       "      <td>0.793</td>\n",
       "      <td>0.793</td>\n",
       "      <td>-4.521</td>\n",
       "      <td>0.01230</td>\n",
       "      <td>0.0830</td>\n",
       "      <td>0.000000</td>\n",
       "      <td>0.0951</td>\n",
       "      <td>0.679</td>\n",
       "      <td>123.950</td>\n",
       "      <td>183290</td>\n",
       "      <td>Nu-disco</td>\n",
       "    </tr>\n",
       "    <tr>\n",
       "      <th>5</th>\n",
       "      <td>DaBaby</td>\n",
       "      <td>BLAME IT ON BABY</td>\n",
       "      <td>ROCKSTAR (feat. Roddy Ricch)</td>\n",
       "      <td>0.690</td>\n",
       "      <td>0.746</td>\n",
       "      <td>-7.956</td>\n",
       "      <td>0.24700</td>\n",
       "      <td>0.1640</td>\n",
       "      <td>0.000000</td>\n",
       "      <td>0.1010</td>\n",
       "      <td>0.497</td>\n",
       "      <td>89.977</td>\n",
       "      <td>181733</td>\n",
       "      <td>Hip-Hop/Rap</td>\n",
       "    </tr>\n",
       "    <tr>\n",
       "      <th>6</th>\n",
       "      <td>Harry Styles</td>\n",
       "      <td>Fine Line</td>\n",
       "      <td>Watermelon Sugar</td>\n",
       "      <td>0.816</td>\n",
       "      <td>0.548</td>\n",
       "      <td>-4.209</td>\n",
       "      <td>0.12200</td>\n",
       "      <td>0.0465</td>\n",
       "      <td>0.000000</td>\n",
       "      <td>0.3350</td>\n",
       "      <td>0.557</td>\n",
       "      <td>95.390</td>\n",
       "      <td>174000</td>\n",
       "      <td>Pop</td>\n",
       "    </tr>\n",
       "    <tr>\n",
       "      <th>7</th>\n",
       "      <td>Powfu</td>\n",
       "      <td>death bed (coffee for your head)</td>\n",
       "      <td>death bed (coffee for your head)</td>\n",
       "      <td>0.431</td>\n",
       "      <td>0.726</td>\n",
       "      <td>-8.765</td>\n",
       "      <td>0.73100</td>\n",
       "      <td>0.1350</td>\n",
       "      <td>0.000000</td>\n",
       "      <td>0.6960</td>\n",
       "      <td>0.348</td>\n",
       "      <td>144.026</td>\n",
       "      <td>173333</td>\n",
       "      <td>Hip-Hop/Rap</td>\n",
       "    </tr>\n",
       "    <tr>\n",
       "      <th>8</th>\n",
       "      <td>Trevor Daniel</td>\n",
       "      <td>Nicotine</td>\n",
       "      <td>Falling</td>\n",
       "      <td>0.430</td>\n",
       "      <td>0.784</td>\n",
       "      <td>-8.756</td>\n",
       "      <td>0.12300</td>\n",
       "      <td>0.0364</td>\n",
       "      <td>0.000000</td>\n",
       "      <td>0.0887</td>\n",
       "      <td>0.236</td>\n",
       "      <td>127.087</td>\n",
       "      <td>159382</td>\n",
       "      <td>R&amp;B/Hip-Hop alternative</td>\n",
       "    </tr>\n",
       "    <tr>\n",
       "      <th>9</th>\n",
       "      <td>Lewis Capaldi</td>\n",
       "      <td>Divinely Uninspired To A Hellish Extent</td>\n",
       "      <td>Someone You Loved</td>\n",
       "      <td>0.405</td>\n",
       "      <td>0.501</td>\n",
       "      <td>-5.679</td>\n",
       "      <td>0.75100</td>\n",
       "      <td>0.0319</td>\n",
       "      <td>0.000000</td>\n",
       "      <td>0.1050</td>\n",
       "      <td>0.446</td>\n",
       "      <td>109.891</td>\n",
       "      <td>182161</td>\n",
       "      <td>Alternative/Indie</td>\n",
       "    </tr>\n",
       "  </tbody>\n",
       "</table>\n",
       "</div>"
      ],
      "text/plain": [
       "           artist                                    album  \\\n",
       "Id                                                           \n",
       "0      The Weeknd                              After Hours   \n",
       "1     Tones And I                             Dance Monkey   \n",
       "2     Roddy Ricch    Please Excuse Me For Being Antisocial   \n",
       "3       SAINt JHN                    Roses (Imanbek Remix)   \n",
       "4        Dua Lipa                         Future Nostalgia   \n",
       "5          DaBaby                         BLAME IT ON BABY   \n",
       "6    Harry Styles                                Fine Line   \n",
       "7           Powfu         death bed (coffee for your head)   \n",
       "8   Trevor Daniel                                 Nicotine   \n",
       "9   Lewis Capaldi  Divinely Uninspired To A Hellish Extent   \n",
       "\n",
       "                          track_name  energy  danceability  loudness  \\\n",
       "Id                                                                     \n",
       "0                    Blinding Lights   0.730         0.514    -5.934   \n",
       "1                       Dance Monkey   0.593         0.825    -6.401   \n",
       "2                            The Box   0.586         0.896    -6.687   \n",
       "3              Roses - Imanbek Remix   0.721         0.785    -5.457   \n",
       "4                    Don't Start Now   0.793         0.793    -4.521   \n",
       "5       ROCKSTAR (feat. Roddy Ricch)   0.690         0.746    -7.956   \n",
       "6                   Watermelon Sugar   0.816         0.548    -4.209   \n",
       "7   death bed (coffee for your head)   0.431         0.726    -8.765   \n",
       "8                            Falling   0.430         0.784    -8.756   \n",
       "9                  Someone You Loved   0.405         0.501    -5.679   \n",
       "\n",
       "    acousticness  speechiness  instrumentalness  liveness  valence    tempo  \\\n",
       "Id                                                                            \n",
       "0        0.00146       0.0598          0.000095    0.0897    0.334  171.005   \n",
       "1        0.68800       0.0988          0.000161    0.1700    0.540   98.078   \n",
       "2        0.10400       0.0559          0.000000    0.7900    0.642  116.971   \n",
       "3        0.01490       0.0506          0.004320    0.2850    0.894  121.962   \n",
       "4        0.01230       0.0830          0.000000    0.0951    0.679  123.950   \n",
       "5        0.24700       0.1640          0.000000    0.1010    0.497   89.977   \n",
       "6        0.12200       0.0465          0.000000    0.3350    0.557   95.390   \n",
       "7        0.73100       0.1350          0.000000    0.6960    0.348  144.026   \n",
       "8        0.12300       0.0364          0.000000    0.0887    0.236  127.087   \n",
       "9        0.75100       0.0319          0.000000    0.1050    0.446  109.891   \n",
       "\n",
       "    duration_ms                    genre  \n",
       "Id                                        \n",
       "0        200040                 R&B/Soul  \n",
       "1        209755        Alternative/Indie  \n",
       "2        196653              Hip-Hop/Rap  \n",
       "3        176219         Dance/Electronic  \n",
       "4        183290                 Nu-disco  \n",
       "5        181733              Hip-Hop/Rap  \n",
       "6        174000                      Pop  \n",
       "7        173333              Hip-Hop/Rap  \n",
       "8        159382  R&B/Hip-Hop alternative  \n",
       "9        182161        Alternative/Indie  "
      ]
     },
     "execution_count": 25,
     "metadata": {},
     "output_type": "execute_result"
    }
   ],
   "source": [
    "spotify_data.set_index('Id', drop=True, inplace=True)\n",
    "spotify_data.drop('key', axis=1, inplace=True)\n",
    "spotify_data.drop('track_id', axis=1, inplace=True)\n",
    "spotify_data.head(n=10)"
   ]
  },
  {
   "cell_type": "markdown",
   "metadata": {},
   "source": [
    "### <center> Data value, type, outlier checks <center>"
   ]
  },
  {
   "cell_type": "markdown",
   "metadata": {},
   "source": [
    "During data cleaning, first we check if there are null values in given dataset."
   ]
  },
  {
   "cell_type": "code",
   "execution_count": 26,
   "metadata": {},
   "outputs": [
    {
     "data": {
      "text/plain": [
       "artist              0\n",
       "album               0\n",
       "track_name          0\n",
       "energy              0\n",
       "danceability        0\n",
       "loudness            0\n",
       "acousticness        0\n",
       "speechiness         0\n",
       "instrumentalness    0\n",
       "liveness            0\n",
       "valence             0\n",
       "tempo               0\n",
       "duration_ms         0\n",
       "genre               0\n",
       "dtype: int64"
      ]
     },
     "execution_count": 26,
     "metadata": {},
     "output_type": "execute_result"
    }
   ],
   "source": [
    "spotify_data.isnull().sum()"
   ]
  },
  {
   "cell_type": "markdown",
   "metadata": {},
   "source": [
    "As we can see there are no null values. Next we check if all of the 50 songs in this dataset are unique."
   ]
  },
  {
   "cell_type": "code",
   "execution_count": 27,
   "metadata": {},
   "outputs": [
    {
     "name": "stdout",
     "output_type": "stream",
     "text": [
      "50\n"
     ]
    }
   ],
   "source": [
    "print(len(spotify_data[\"track_name\"].unique()))"
   ]
  },
  {
   "cell_type": "markdown",
   "metadata": {},
   "source": [
    "Next we check if our dataset has correct data types."
   ]
  },
  {
   "cell_type": "code",
   "execution_count": 28,
   "metadata": {},
   "outputs": [
    {
     "data": {
      "text/plain": [
       "artist               object\n",
       "album                object\n",
       "track_name           object\n",
       "energy              float64\n",
       "danceability        float64\n",
       "loudness            float64\n",
       "acousticness        float64\n",
       "speechiness         float64\n",
       "instrumentalness    float64\n",
       "liveness            float64\n",
       "valence             float64\n",
       "tempo               float64\n",
       "duration_ms           int64\n",
       "genre                object\n",
       "dtype: object"
      ]
     },
     "execution_count": 28,
     "metadata": {},
     "output_type": "execute_result"
    }
   ],
   "source": [
    "spotify_data.dtypes"
   ]
  },
  {
   "cell_type": "markdown",
   "metadata": {},
   "source": [
    "While looking for outliers we use dataset's **description** and **zscore**. Descriptions give good overall overview of the dataset and zscore detects datapoints with extreme deviations."
   ]
  },
  {
   "cell_type": "code",
   "execution_count": 29,
   "metadata": {},
   "outputs": [
    {
     "data": {
      "text/html": [
       "<div>\n",
       "<style scoped>\n",
       "    .dataframe tbody tr th:only-of-type {\n",
       "        vertical-align: middle;\n",
       "    }\n",
       "\n",
       "    .dataframe tbody tr th {\n",
       "        vertical-align: top;\n",
       "    }\n",
       "\n",
       "    .dataframe thead th {\n",
       "        text-align: right;\n",
       "    }\n",
       "</style>\n",
       "<table border=\"1\" class=\"dataframe\">\n",
       "  <thead>\n",
       "    <tr style=\"text-align: right;\">\n",
       "      <th></th>\n",
       "      <th>energy</th>\n",
       "      <th>danceability</th>\n",
       "      <th>loudness</th>\n",
       "      <th>acousticness</th>\n",
       "      <th>speechiness</th>\n",
       "      <th>instrumentalness</th>\n",
       "      <th>liveness</th>\n",
       "      <th>valence</th>\n",
       "      <th>tempo</th>\n",
       "      <th>duration_ms</th>\n",
       "    </tr>\n",
       "  </thead>\n",
       "  <tbody>\n",
       "    <tr>\n",
       "      <th>count</th>\n",
       "      <td>50.000000</td>\n",
       "      <td>50.000000</td>\n",
       "      <td>50.000000</td>\n",
       "      <td>50.000000</td>\n",
       "      <td>50.000000</td>\n",
       "      <td>50.000000</td>\n",
       "      <td>50.000000</td>\n",
       "      <td>50.000000</td>\n",
       "      <td>50.000000</td>\n",
       "      <td>50.000000</td>\n",
       "    </tr>\n",
       "    <tr>\n",
       "      <th>mean</th>\n",
       "      <td>0.609300</td>\n",
       "      <td>0.716720</td>\n",
       "      <td>-6.225900</td>\n",
       "      <td>0.256206</td>\n",
       "      <td>0.124158</td>\n",
       "      <td>0.015962</td>\n",
       "      <td>0.196552</td>\n",
       "      <td>0.555710</td>\n",
       "      <td>119.690460</td>\n",
       "      <td>199955.360000</td>\n",
       "    </tr>\n",
       "    <tr>\n",
       "      <th>std</th>\n",
       "      <td>0.154348</td>\n",
       "      <td>0.124975</td>\n",
       "      <td>2.349744</td>\n",
       "      <td>0.265250</td>\n",
       "      <td>0.116836</td>\n",
       "      <td>0.094312</td>\n",
       "      <td>0.176610</td>\n",
       "      <td>0.216386</td>\n",
       "      <td>25.414778</td>\n",
       "      <td>33996.122488</td>\n",
       "    </tr>\n",
       "    <tr>\n",
       "      <th>min</th>\n",
       "      <td>0.225000</td>\n",
       "      <td>0.351000</td>\n",
       "      <td>-14.454000</td>\n",
       "      <td>0.001460</td>\n",
       "      <td>0.029000</td>\n",
       "      <td>0.000000</td>\n",
       "      <td>0.057400</td>\n",
       "      <td>0.060500</td>\n",
       "      <td>75.801000</td>\n",
       "      <td>140526.000000</td>\n",
       "    </tr>\n",
       "    <tr>\n",
       "      <th>25%</th>\n",
       "      <td>0.494000</td>\n",
       "      <td>0.672500</td>\n",
       "      <td>-7.552500</td>\n",
       "      <td>0.052800</td>\n",
       "      <td>0.048325</td>\n",
       "      <td>0.000000</td>\n",
       "      <td>0.093950</td>\n",
       "      <td>0.434000</td>\n",
       "      <td>99.557250</td>\n",
       "      <td>175845.500000</td>\n",
       "    </tr>\n",
       "    <tr>\n",
       "      <th>50%</th>\n",
       "      <td>0.597000</td>\n",
       "      <td>0.746000</td>\n",
       "      <td>-5.991500</td>\n",
       "      <td>0.188500</td>\n",
       "      <td>0.070050</td>\n",
       "      <td>0.000000</td>\n",
       "      <td>0.111000</td>\n",
       "      <td>0.560000</td>\n",
       "      <td>116.969000</td>\n",
       "      <td>197853.500000</td>\n",
       "    </tr>\n",
       "    <tr>\n",
       "      <th>75%</th>\n",
       "      <td>0.729750</td>\n",
       "      <td>0.794500</td>\n",
       "      <td>-4.285500</td>\n",
       "      <td>0.298750</td>\n",
       "      <td>0.155500</td>\n",
       "      <td>0.000020</td>\n",
       "      <td>0.271250</td>\n",
       "      <td>0.726250</td>\n",
       "      <td>132.317000</td>\n",
       "      <td>215064.000000</td>\n",
       "    </tr>\n",
       "    <tr>\n",
       "      <th>max</th>\n",
       "      <td>0.855000</td>\n",
       "      <td>0.935000</td>\n",
       "      <td>-3.280000</td>\n",
       "      <td>0.934000</td>\n",
       "      <td>0.487000</td>\n",
       "      <td>0.657000</td>\n",
       "      <td>0.792000</td>\n",
       "      <td>0.925000</td>\n",
       "      <td>180.067000</td>\n",
       "      <td>312820.000000</td>\n",
       "    </tr>\n",
       "  </tbody>\n",
       "</table>\n",
       "</div>"
      ],
      "text/plain": [
       "          energy  danceability   loudness  acousticness  speechiness  \\\n",
       "count  50.000000     50.000000  50.000000     50.000000    50.000000   \n",
       "mean    0.609300      0.716720  -6.225900      0.256206     0.124158   \n",
       "std     0.154348      0.124975   2.349744      0.265250     0.116836   \n",
       "min     0.225000      0.351000 -14.454000      0.001460     0.029000   \n",
       "25%     0.494000      0.672500  -7.552500      0.052800     0.048325   \n",
       "50%     0.597000      0.746000  -5.991500      0.188500     0.070050   \n",
       "75%     0.729750      0.794500  -4.285500      0.298750     0.155500   \n",
       "max     0.855000      0.935000  -3.280000      0.934000     0.487000   \n",
       "\n",
       "       instrumentalness   liveness    valence       tempo    duration_ms  \n",
       "count         50.000000  50.000000  50.000000   50.000000      50.000000  \n",
       "mean           0.015962   0.196552   0.555710  119.690460  199955.360000  \n",
       "std            0.094312   0.176610   0.216386   25.414778   33996.122488  \n",
       "min            0.000000   0.057400   0.060500   75.801000  140526.000000  \n",
       "25%            0.000000   0.093950   0.434000   99.557250  175845.500000  \n",
       "50%            0.000000   0.111000   0.560000  116.969000  197853.500000  \n",
       "75%            0.000020   0.271250   0.726250  132.317000  215064.000000  \n",
       "max            0.657000   0.792000   0.925000  180.067000  312820.000000  "
      ]
     },
     "execution_count": 29,
     "metadata": {},
     "output_type": "execute_result"
    }
   ],
   "source": [
    "spotify_data.describe()"
   ]
  },
  {
   "cell_type": "code",
   "execution_count": 30,
   "metadata": {},
   "outputs": [
    {
     "name": "stdout",
     "output_type": "stream",
     "text": [
      "Empty DataFrame\n",
      "Columns: [acousticness, album, artist, danceability, duration_ms, energy, instrumentalness, liveness, loudness, speechiness, tempo, track_name, valence]\n",
      "Index: []\n"
     ]
    }
   ],
   "source": [
    "z_scores = zscore(spotify_data[['energy', 'danceability', 'loudness', 'acousticness', 'speechiness',    # Filtering numerical columns\n",
    "                                'instrumentalness', 'liveness', 'valence', 'tempo', 'duration_ms' ]])\n",
    "abs_z_scores = abs(z_scores)                                                                            # Calculating zscore for all datapoints\n",
    "outliers = (abs_z_scores > 3).all(axis=1)                                                               # Checking for extreme deviations\n",
    "outlier_data = spotify_data.loc[outliers, spotify_data.columns.difference(['genre'])]                   # Selects rows with said deviations from dataset\n",
    "\n",
    "print(outlier_data)"
   ]
  },
  {
   "cell_type": "markdown",
   "metadata": {},
   "source": [
    "### <center> Text formating <center>"
   ]
  },
  {
   "cell_type": "markdown",
   "metadata": {},
   "source": [
    "During text formating we do few manipulations to make data more readable. Artists names are capitalized as per \"title\" style. Album names and track names are simply capitalized, and finaly we split text in genre category using backslash (/) and space ( ) as split indicators."
   ]
  },
  {
   "cell_type": "code",
   "execution_count": 31,
   "metadata": {},
   "outputs": [
    {
     "name": "stdout",
     "output_type": "stream",
     "text": [
      "0\n"
     ]
    },
    {
     "data": {
      "text/html": [
       "<div>\n",
       "<style scoped>\n",
       "    .dataframe tbody tr th:only-of-type {\n",
       "        vertical-align: middle;\n",
       "    }\n",
       "\n",
       "    .dataframe tbody tr th {\n",
       "        vertical-align: top;\n",
       "    }\n",
       "\n",
       "    .dataframe thead th {\n",
       "        text-align: right;\n",
       "    }\n",
       "</style>\n",
       "<table border=\"1\" class=\"dataframe\">\n",
       "  <thead>\n",
       "    <tr style=\"text-align: right;\">\n",
       "      <th></th>\n",
       "      <th>artist</th>\n",
       "      <th>album</th>\n",
       "      <th>track_name</th>\n",
       "      <th>energy</th>\n",
       "      <th>danceability</th>\n",
       "      <th>loudness</th>\n",
       "      <th>acousticness</th>\n",
       "      <th>speechiness</th>\n",
       "      <th>instrumentalness</th>\n",
       "      <th>liveness</th>\n",
       "      <th>valence</th>\n",
       "      <th>tempo</th>\n",
       "      <th>duration_ms</th>\n",
       "      <th>genre</th>\n",
       "    </tr>\n",
       "    <tr>\n",
       "      <th>Id</th>\n",
       "      <th></th>\n",
       "      <th></th>\n",
       "      <th></th>\n",
       "      <th></th>\n",
       "      <th></th>\n",
       "      <th></th>\n",
       "      <th></th>\n",
       "      <th></th>\n",
       "      <th></th>\n",
       "      <th></th>\n",
       "      <th></th>\n",
       "      <th></th>\n",
       "      <th></th>\n",
       "      <th></th>\n",
       "    </tr>\n",
       "  </thead>\n",
       "  <tbody>\n",
       "    <tr>\n",
       "      <th>0</th>\n",
       "      <td>The Weeknd</td>\n",
       "      <td>After hours</td>\n",
       "      <td>Blinding lights</td>\n",
       "      <td>0.730</td>\n",
       "      <td>0.514</td>\n",
       "      <td>-5.934</td>\n",
       "      <td>0.00146</td>\n",
       "      <td>0.0598</td>\n",
       "      <td>0.000095</td>\n",
       "      <td>0.0897</td>\n",
       "      <td>0.334</td>\n",
       "      <td>171.005</td>\n",
       "      <td>200040</td>\n",
       "      <td>[R&amp;b, Soul]</td>\n",
       "    </tr>\n",
       "    <tr>\n",
       "      <th>1</th>\n",
       "      <td>Tones And I</td>\n",
       "      <td>Dance monkey</td>\n",
       "      <td>Dance monkey</td>\n",
       "      <td>0.593</td>\n",
       "      <td>0.825</td>\n",
       "      <td>-6.401</td>\n",
       "      <td>0.68800</td>\n",
       "      <td>0.0988</td>\n",
       "      <td>0.000161</td>\n",
       "      <td>0.1700</td>\n",
       "      <td>0.540</td>\n",
       "      <td>98.078</td>\n",
       "      <td>209755</td>\n",
       "      <td>[Alternative, Indie]</td>\n",
       "    </tr>\n",
       "    <tr>\n",
       "      <th>2</th>\n",
       "      <td>Roddy Ricch</td>\n",
       "      <td>Please excuse me for being antisocial</td>\n",
       "      <td>The box</td>\n",
       "      <td>0.586</td>\n",
       "      <td>0.896</td>\n",
       "      <td>-6.687</td>\n",
       "      <td>0.10400</td>\n",
       "      <td>0.0559</td>\n",
       "      <td>0.000000</td>\n",
       "      <td>0.7900</td>\n",
       "      <td>0.642</td>\n",
       "      <td>116.971</td>\n",
       "      <td>196653</td>\n",
       "      <td>[Hip-hop, Rap]</td>\n",
       "    </tr>\n",
       "    <tr>\n",
       "      <th>3</th>\n",
       "      <td>Saint Jhn</td>\n",
       "      <td>Roses (imanbek remix)</td>\n",
       "      <td>Roses - imanbek remix</td>\n",
       "      <td>0.721</td>\n",
       "      <td>0.785</td>\n",
       "      <td>-5.457</td>\n",
       "      <td>0.01490</td>\n",
       "      <td>0.0506</td>\n",
       "      <td>0.004320</td>\n",
       "      <td>0.2850</td>\n",
       "      <td>0.894</td>\n",
       "      <td>121.962</td>\n",
       "      <td>176219</td>\n",
       "      <td>[Dance, Electronic]</td>\n",
       "    </tr>\n",
       "    <tr>\n",
       "      <th>4</th>\n",
       "      <td>Dua Lipa</td>\n",
       "      <td>Future nostalgia</td>\n",
       "      <td>Don't start now</td>\n",
       "      <td>0.793</td>\n",
       "      <td>0.793</td>\n",
       "      <td>-4.521</td>\n",
       "      <td>0.01230</td>\n",
       "      <td>0.0830</td>\n",
       "      <td>0.000000</td>\n",
       "      <td>0.0951</td>\n",
       "      <td>0.679</td>\n",
       "      <td>123.950</td>\n",
       "      <td>183290</td>\n",
       "      <td>[Nu-disco]</td>\n",
       "    </tr>\n",
       "  </tbody>\n",
       "</table>\n",
       "</div>"
      ],
      "text/plain": [
       "         artist                                  album             track_name  \\\n",
       "Id                                                                              \n",
       "0    The Weeknd                            After hours        Blinding lights   \n",
       "1   Tones And I                           Dance monkey           Dance monkey   \n",
       "2   Roddy Ricch  Please excuse me for being antisocial                The box   \n",
       "3     Saint Jhn                  Roses (imanbek remix)  Roses - imanbek remix   \n",
       "4      Dua Lipa                       Future nostalgia        Don't start now   \n",
       "\n",
       "    energy  danceability  loudness  acousticness  speechiness  \\\n",
       "Id                                                              \n",
       "0    0.730         0.514    -5.934       0.00146       0.0598   \n",
       "1    0.593         0.825    -6.401       0.68800       0.0988   \n",
       "2    0.586         0.896    -6.687       0.10400       0.0559   \n",
       "3    0.721         0.785    -5.457       0.01490       0.0506   \n",
       "4    0.793         0.793    -4.521       0.01230       0.0830   \n",
       "\n",
       "    instrumentalness  liveness  valence    tempo  duration_ms  \\\n",
       "Id                                                              \n",
       "0           0.000095    0.0897    0.334  171.005       200040   \n",
       "1           0.000161    0.1700    0.540   98.078       209755   \n",
       "2           0.000000    0.7900    0.642  116.971       196653   \n",
       "3           0.004320    0.2850    0.894  121.962       176219   \n",
       "4           0.000000    0.0951    0.679  123.950       183290   \n",
       "\n",
       "                   genre  \n",
       "Id                        \n",
       "0            [R&b, Soul]  \n",
       "1   [Alternative, Indie]  \n",
       "2         [Hip-hop, Rap]  \n",
       "3    [Dance, Electronic]  \n",
       "4             [Nu-disco]  "
      ]
     },
     "execution_count": 31,
     "metadata": {},
     "output_type": "execute_result"
    }
   ],
   "source": [
    "spotify_data['artist'] = spotify_data['artist'].apply(lambda x: x.title())                                  # Applying lambda function to capitalize each word\n",
    "spotify_data['album'] = spotify_data['album'].str.capitalize()\n",
    "spotify_data['track_name'] = spotify_data['track_name'].str.capitalize()\n",
    "spotify_data = spotify_data.map(lambda x: x.strip() if isinstance(x, str) else x)                           # If string, removes whitespaces\n",
    "print(spotify_data.duplicated().sum())                                                                      # Prints dublicated rows count\n",
    "spotify_data['genre']= spotify_data['genre'].str.split(r'/|\\s+')                                            # Splits genre values separated by space ( ) and backslash(/).\n",
    "spotify_data['genre']= spotify_data['genre'].apply(lambda genres: [genre.capitalize() for genre in genres])\n",
    "spotify_data.head()\n"
   ]
  },
  {
   "cell_type": "markdown",
   "metadata": {},
   "source": [
    "## <center>Exploratory data analysis <center>"
   ]
  },
  {
   "cell_type": "markdown",
   "metadata": {},
   "source": [
    "### <center> Basic dataset information <center>"
   ]
  },
  {
   "cell_type": "markdown",
   "metadata": {},
   "source": [
    "During analysis, first thing we check is our dataset shape. This indicates our dataset dimension which offer information on observation and feature count."
   ]
  },
  {
   "cell_type": "code",
   "execution_count": 32,
   "metadata": {},
   "outputs": [
    {
     "data": {
      "text/plain": [
       "(50, 14)"
      ]
     },
     "execution_count": 32,
     "metadata": {},
     "output_type": "execute_result"
    }
   ],
   "source": [
    "spotify_data.shape"
   ]
  },
  {
   "cell_type": "markdown",
   "metadata": {},
   "source": [
    "As we can see in output below, in this dataset there are 50 observations, which is expected considering dataset is made of top 50 tracks of 2020."
   ]
  },
  {
   "cell_type": "code",
   "execution_count": 33,
   "metadata": {},
   "outputs": [
    {
     "data": {
      "text/plain": [
       "50"
      ]
     },
     "execution_count": 33,
     "metadata": {},
     "output_type": "execute_result"
    }
   ],
   "source": [
    "spotify_data.shape[0]"
   ]
  },
  {
   "cell_type": "markdown",
   "metadata": {},
   "source": [
    "Output below offers us insights into dataset feature count. As we can see there are 14 features in total."
   ]
  },
  {
   "cell_type": "code",
   "execution_count": 34,
   "metadata": {},
   "outputs": [
    {
     "data": {
      "text/plain": [
       "14"
      ]
     },
     "execution_count": 34,
     "metadata": {},
     "output_type": "execute_result"
    }
   ],
   "source": [
    "spotify_data.shape[1]"
   ]
  },
  {
   "cell_type": "markdown",
   "metadata": {},
   "source": [
    "After finding out information about observations and features, we need to extract datatype of each feature. For text fields its expected to be object feature, while for all numerical fields it should be float or intager data type."
   ]
  },
  {
   "cell_type": "code",
   "execution_count": 35,
   "metadata": {},
   "outputs": [
    {
     "data": {
      "text/plain": [
       "artist               object\n",
       "album                object\n",
       "track_name           object\n",
       "energy              float64\n",
       "danceability        float64\n",
       "loudness            float64\n",
       "acousticness        float64\n",
       "speechiness         float64\n",
       "instrumentalness    float64\n",
       "liveness            float64\n",
       "valence             float64\n",
       "tempo               float64\n",
       "duration_ms           int64\n",
       "genre                object\n",
       "dtype: object"
      ]
     },
     "execution_count": 35,
     "metadata": {},
     "output_type": "execute_result"
    }
   ],
   "source": [
    "spotify_data.dtypes"
   ]
  },
  {
   "cell_type": "markdown",
   "metadata": {},
   "source": [
    "For easier readabilaty, series containing datatypes are split into numerical and categorical. As we can see from output below these features are numerical: **energy, danceability, loudness, acousticness, speechiness, instrumentalness, liveness, valence, tempo, duration_ms.**"
   ]
  },
  {
   "cell_type": "code",
   "execution_count": 36,
   "metadata": {},
   "outputs": [
    {
     "data": {
      "text/plain": [
       "energy              float64\n",
       "danceability        float64\n",
       "loudness            float64\n",
       "acousticness        float64\n",
       "speechiness         float64\n",
       "instrumentalness    float64\n",
       "liveness            float64\n",
       "valence             float64\n",
       "tempo               float64\n",
       "duration_ms           int64\n",
       "dtype: object"
      ]
     },
     "execution_count": 36,
     "metadata": {},
     "output_type": "execute_result"
    }
   ],
   "source": [
    "numerical_columns = spotify_data.select_dtypes(include=[np.number]).dtypes\n",
    "numerical_columns"
   ]
  },
  {
   "cell_type": "markdown",
   "metadata": {},
   "source": [
    "In categorical features we have **artist, album, track_name, genre**\n",
    "(Not entirely sure if track_name is categorical)"
   ]
  },
  {
   "cell_type": "code",
   "execution_count": 37,
   "metadata": {},
   "outputs": [
    {
     "data": {
      "text/plain": [
       "artist        object\n",
       "album         object\n",
       "track_name    object\n",
       "genre         object\n",
       "dtype: object"
      ]
     },
     "execution_count": 37,
     "metadata": {},
     "output_type": "execute_result"
    }
   ],
   "source": [
    "categorical_columns = spotify_data.select_dtypes(include=['object']).dtypes\n",
    "categorical_columns"
   ]
  },
  {
   "cell_type": "markdown",
   "metadata": {},
   "source": [
    "### <center> Data exploration/filtering <center>"
   ]
  },
  {
   "cell_type": "markdown",
   "metadata": {},
   "source": [
    "Now as we got our main info about dataset structure we can start analysis. First lets see if there are artists that have multiple top songs and if yes how many."
   ]
  },
  {
   "cell_type": "code",
   "execution_count": 38,
   "metadata": {},
   "outputs": [
    {
     "data": {
      "text/plain": [
       "artist\n",
       "Billie Eilish      3\n",
       "Dua Lipa           3\n",
       "Travis Scott       3\n",
       "Justin Bieber      2\n",
       "Harry Styles       2\n",
       "Lewis Capaldi      2\n",
       "Post Malone        2\n",
       "Cardi B            1\n",
       "Surfaces           1\n",
       "Eminem             1\n",
       "Bts                1\n",
       "Benee              1\n",
       "Surf Mesa          1\n",
       "Lady Gaga          1\n",
       "The Weeknd         1\n",
       "Shawn Mendes       1\n",
       "Regard             1\n",
       "Black Eyed Peas    1\n",
       "The Scotts         1\n",
       "Bad Bunny          1\n",
       "Juice Wrld         1\n",
       "Ariana Grande      1\n",
       "Maluma             1\n",
       "Topic              1\n",
       "24Kgoldn           1\n",
       "Tones And I        1\n",
       "Jawsh 685          1\n",
       "Future             1\n",
       "Maroon 5           1\n",
       "Doja Cat           1\n",
       "Drake              1\n",
       "Lil Mosey          1\n",
       "Arizona Zervas     1\n",
       "Karol G            1\n",
       "Trevor Daniel      1\n",
       "Powfu              1\n",
       "Dababy             1\n",
       "Saint Jhn          1\n",
       "Roddy Ricch        1\n",
       "Jp Saxe            1\n",
       "Name: count, dtype: int64"
      ]
     },
     "execution_count": 38,
     "metadata": {},
     "output_type": "execute_result"
    }
   ],
   "source": [
    "spotify_data['artist'].value_counts()"
   ]
  },
  {
   "cell_type": "markdown",
   "metadata": {},
   "source": [
    "As we can see there are few artists with more than one song in top's. After filtering them we can see that **Billie Eilish, Dua Lipa and Travis Scott** each have 3 top songs, while **Justin Bieber, Harry Styles, Lewis Capaldi** and **Post Malone** have 2 songs in top 50."
   ]
  },
  {
   "cell_type": "code",
   "execution_count": 39,
   "metadata": {},
   "outputs": [
    {
     "data": {
      "text/plain": [
       "artist\n",
       "Billie Eilish    3\n",
       "Dua Lipa         3\n",
       "Travis Scott     3\n",
       "Justin Bieber    2\n",
       "Harry Styles     2\n",
       "Lewis Capaldi    2\n",
       "Post Malone      2\n",
       "Name: count, dtype: int64"
      ]
     },
     "execution_count": 39,
     "metadata": {},
     "output_type": "execute_result"
    }
   ],
   "source": [
    "multi_top_artists= spotify_data['artist'].value_counts()[spotify_data['artist'].value_counts().ge(2)]  # ge - greater or equal\n",
    "multi_top_artists"
   ]
  },
  {
   "cell_type": "markdown",
   "metadata": {},
   "source": [
    "In total there are **7** artists that have more than one song in top 50."
   ]
  },
  {
   "cell_type": "code",
   "execution_count": 40,
   "metadata": {},
   "outputs": [
    {
     "data": {
      "text/plain": [
       "7"
      ]
     },
     "execution_count": 40,
     "metadata": {},
     "output_type": "execute_result"
    }
   ],
   "source": [
    "len(multi_top_artists)"
   ]
  },
  {
   "cell_type": "markdown",
   "metadata": {},
   "source": [
    "While we get to know artists that have multiple songs in top 50, we still dont know which one is most popular. To give definitive answer we would need bit more extensive dataset, but using data we got, its safe to say that **Billie Eilish, Dua Lipa** and **Travis Scott** were most popular artists in 2020."
   ]
  },
  {
   "cell_type": "code",
   "execution_count": 41,
   "metadata": {},
   "outputs": [
    {
     "data": {
      "text/plain": [
       "artist\n",
       "Billie Eilish    3\n",
       "Dua Lipa         3\n",
       "Travis Scott     3\n",
       "Name: count, dtype: int64"
      ]
     },
     "execution_count": 41,
     "metadata": {},
     "output_type": "execute_result"
    }
   ],
   "source": [
    "most_popular_artists = spotify_data['artist'].value_counts().loc[lambda x: x == x.max()]\n",
    "most_popular_artists"
   ]
  },
  {
   "cell_type": "markdown",
   "metadata": {},
   "source": [
    "Considering the fact that some artists have multiple popular songs, we may be interested to know how many unique artists there are in this dataset. From code below we can see that there are total of **40** unique artists in this dataset."
   ]
  },
  {
   "cell_type": "code",
   "execution_count": 42,
   "metadata": {},
   "outputs": [
    {
     "data": {
      "text/plain": [
       "40"
      ]
     },
     "execution_count": 42,
     "metadata": {},
     "output_type": "execute_result"
    }
   ],
   "source": [
    "unique_artists = spotify_data['artist'].unique()\n",
    "len(unique_artists)"
   ]
  },
  {
   "cell_type": "markdown",
   "metadata": {},
   "source": [
    "After getting insights into artists, next logical step is to cover some basic question related to albums. First lets see how many albums have multiple top songs."
   ]
  },
  {
   "cell_type": "code",
   "execution_count": 43,
   "metadata": {},
   "outputs": [
    {
     "data": {
      "text/plain": [
       "album\n",
       "Future nostalgia                                              3\n",
       "Hollywood's bleeding                                          2\n",
       "Fine line                                                     2\n",
       "Changes                                                       2\n",
       "Ride it                                                       1\n",
       "Where the light is                                            1\n",
       "Music to be murdered by                                       1\n",
       "Dynamite (daytime version)                                    1\n",
       "Hey u x                                                       1\n",
       "Ily (i love you baby) (feat. emilee)                          1\n",
       "Chromatica                                                    1\n",
       "Highest in the room                                           1\n",
       "Papi juancho                                                  1\n",
       "After hours                                                   1\n",
       "When we all fall asleep, where do we go?                      1\n",
       "Birds in the trap sing mcknight                               1\n",
       "Translation                                                   1\n",
       "The scotts                                                    1\n",
       "Yhlqmdlg                                                      1\n",
       "Lovely (with khalid)                                          1\n",
       "Goodbye & good riddance                                       1\n",
       "Stuck with u                                                  1\n",
       "If the world was ending (feat. julia michaels)                1\n",
       "Wap (feat. megan thee stallion)                               1\n",
       "Mood (feat. iann dior)                                        1\n",
       "Shawn mendes (deluxe)                                         1\n",
       "Everything i wanted                                           1\n",
       "Please excuse me for being antisocial                         1\n",
       "Roses (imanbek remix)                                         1\n",
       "Blame it on baby                                              1\n",
       "Death bed (coffee for your head)                              1\n",
       "Nicotine                                                      1\n",
       "Divinely uninspired to a hellish extent                       1\n",
       "Tusa                                                          1\n",
       "Roxanne                                                       1\n",
       "Certified hitmaker                                            1\n",
       "Dark lane demo tapes                                          1\n",
       "Divinely uninspired to a hellish extent (extended edition)    1\n",
       "Hot pink                                                      1\n",
       "Memories                                                      1\n",
       "High off life                                                 1\n",
       "Savage love (laxed - siren beat)                              1\n",
       "Breaking me                                                   1\n",
       "Dance monkey                                                  1\n",
       "Astroworld                                                    1\n",
       "Name: count, dtype: int64"
      ]
     },
     "execution_count": 43,
     "metadata": {},
     "output_type": "execute_result"
    }
   ],
   "source": [
    "spotify_data['album'].value_counts()"
   ]
  },
  {
   "cell_type": "markdown",
   "metadata": {},
   "source": [
    "From code below we can see that there are in total **4** albums in dataset that contain 2 or more songs: **Future nostalgia, Hollywood's bleeding, Fine line, Changes**. One of them called **\"Future nostalgia\"** has 3 songs in top charts and is most popular in our dataset. "
   ]
  },
  {
   "cell_type": "code",
   "execution_count": 44,
   "metadata": {},
   "outputs": [
    {
     "data": {
      "text/plain": [
       "album\n",
       "Future nostalgia        3\n",
       "Hollywood's bleeding    2\n",
       "Fine line               2\n",
       "Changes                 2\n",
       "Name: count, dtype: int64"
      ]
     },
     "execution_count": 44,
     "metadata": {},
     "output_type": "execute_result"
    }
   ],
   "source": [
    "multi_top_albums= spotify_data['album'].value_counts()[spotify_data['album'].value_counts().ge(2)]\n",
    "multi_top_albums"
   ]
  },
  {
   "cell_type": "markdown",
   "metadata": {},
   "source": [
    "Just like with artists, its usefull to know how many unique albums there are in dataset. From code below we can see that there are **45** unique albums in dataset."
   ]
  },
  {
   "cell_type": "code",
   "execution_count": 45,
   "metadata": {},
   "outputs": [
    {
     "data": {
      "text/plain": [
       "45"
      ]
     },
     "execution_count": 45,
     "metadata": {},
     "output_type": "execute_result"
    }
   ],
   "source": [
    "unique_albums = spotify_data['album'].unique()\n",
    "len(unique_albums)"
   ]
  },
  {
   "cell_type": "markdown",
   "metadata": {},
   "source": [
    "Next up lets explore some features that may have influenced popularity of songs. First up lets filter out songs with danceabilaty score above 0.7. As we can see in list below, there are **32** songs in top 50 that have danceabilaty score higher than 0.7."
   ]
  },
  {
   "cell_type": "code",
   "execution_count": 65,
   "metadata": {},
   "outputs": [
    {
     "name": "stdout",
     "output_type": "stream",
     "text": [
      "32\n"
     ]
    },
    {
     "data": {
      "text/html": [
       "<div>\n",
       "<style scoped>\n",
       "    .dataframe tbody tr th:only-of-type {\n",
       "        vertical-align: middle;\n",
       "    }\n",
       "\n",
       "    .dataframe tbody tr th {\n",
       "        vertical-align: top;\n",
       "    }\n",
       "\n",
       "    .dataframe thead th {\n",
       "        text-align: right;\n",
       "    }\n",
       "</style>\n",
       "<table border=\"1\" class=\"dataframe\">\n",
       "  <thead>\n",
       "    <tr style=\"text-align: right;\">\n",
       "      <th></th>\n",
       "      <th>artist</th>\n",
       "      <th>track_name</th>\n",
       "      <th>danceability</th>\n",
       "    </tr>\n",
       "    <tr>\n",
       "      <th>Id</th>\n",
       "      <th></th>\n",
       "      <th></th>\n",
       "      <th></th>\n",
       "    </tr>\n",
       "  </thead>\n",
       "  <tbody>\n",
       "    <tr>\n",
       "      <th>1</th>\n",
       "      <td>Tones And I</td>\n",
       "      <td>Dance monkey</td>\n",
       "      <td>0.825</td>\n",
       "    </tr>\n",
       "    <tr>\n",
       "      <th>2</th>\n",
       "      <td>Roddy Ricch</td>\n",
       "      <td>The box</td>\n",
       "      <td>0.896</td>\n",
       "    </tr>\n",
       "    <tr>\n",
       "      <th>3</th>\n",
       "      <td>Saint Jhn</td>\n",
       "      <td>Roses - imanbek remix</td>\n",
       "      <td>0.785</td>\n",
       "    </tr>\n",
       "    <tr>\n",
       "      <th>4</th>\n",
       "      <td>Dua Lipa</td>\n",
       "      <td>Don't start now</td>\n",
       "      <td>0.793</td>\n",
       "    </tr>\n",
       "    <tr>\n",
       "      <th>5</th>\n",
       "      <td>Dababy</td>\n",
       "      <td>Rockstar (feat. roddy ricch)</td>\n",
       "      <td>0.746</td>\n",
       "    </tr>\n",
       "    <tr>\n",
       "      <th>7</th>\n",
       "      <td>Powfu</td>\n",
       "      <td>Death bed (coffee for your head)</td>\n",
       "      <td>0.726</td>\n",
       "    </tr>\n",
       "    <tr>\n",
       "      <th>8</th>\n",
       "      <td>Trevor Daniel</td>\n",
       "      <td>Falling</td>\n",
       "      <td>0.784</td>\n",
       "    </tr>\n",
       "    <tr>\n",
       "      <th>10</th>\n",
       "      <td>Karol G</td>\n",
       "      <td>Tusa</td>\n",
       "      <td>0.803</td>\n",
       "    </tr>\n",
       "    <tr>\n",
       "      <th>13</th>\n",
       "      <td>Lil Mosey</td>\n",
       "      <td>Blueberry faygo</td>\n",
       "      <td>0.774</td>\n",
       "    </tr>\n",
       "    <tr>\n",
       "      <th>14</th>\n",
       "      <td>Justin Bieber</td>\n",
       "      <td>Intentions (feat. quavo)</td>\n",
       "      <td>0.806</td>\n",
       "    </tr>\n",
       "    <tr>\n",
       "      <th>15</th>\n",
       "      <td>Drake</td>\n",
       "      <td>Toosie slide</td>\n",
       "      <td>0.830</td>\n",
       "    </tr>\n",
       "    <tr>\n",
       "      <th>17</th>\n",
       "      <td>Doja Cat</td>\n",
       "      <td>Say so</td>\n",
       "      <td>0.787</td>\n",
       "    </tr>\n",
       "    <tr>\n",
       "      <th>18</th>\n",
       "      <td>Maroon 5</td>\n",
       "      <td>Memories</td>\n",
       "      <td>0.764</td>\n",
       "    </tr>\n",
       "    <tr>\n",
       "      <th>19</th>\n",
       "      <td>Future</td>\n",
       "      <td>Life is good (feat. drake)</td>\n",
       "      <td>0.795</td>\n",
       "    </tr>\n",
       "    <tr>\n",
       "      <th>20</th>\n",
       "      <td>Jawsh 685</td>\n",
       "      <td>Savage love (laxed - siren beat)</td>\n",
       "      <td>0.767</td>\n",
       "    </tr>\n",
       "    <tr>\n",
       "      <th>22</th>\n",
       "      <td>Topic</td>\n",
       "      <td>Breaking me</td>\n",
       "      <td>0.789</td>\n",
       "    </tr>\n",
       "    <tr>\n",
       "      <th>24</th>\n",
       "      <td>Billie Eilish</td>\n",
       "      <td>Everything i wanted</td>\n",
       "      <td>0.704</td>\n",
       "    </tr>\n",
       "    <tr>\n",
       "      <th>25</th>\n",
       "      <td>Shawn Mendes</td>\n",
       "      <td>Señorita</td>\n",
       "      <td>0.759</td>\n",
       "    </tr>\n",
       "    <tr>\n",
       "      <th>26</th>\n",
       "      <td>Billie Eilish</td>\n",
       "      <td>Bad guy</td>\n",
       "      <td>0.701</td>\n",
       "    </tr>\n",
       "    <tr>\n",
       "      <th>27</th>\n",
       "      <td>Cardi B</td>\n",
       "      <td>Wap (feat. megan thee stallion)</td>\n",
       "      <td>0.935</td>\n",
       "    </tr>\n",
       "    <tr>\n",
       "      <th>28</th>\n",
       "      <td>Surfaces</td>\n",
       "      <td>Sunday best</td>\n",
       "      <td>0.878</td>\n",
       "    </tr>\n",
       "    <tr>\n",
       "      <th>29</th>\n",
       "      <td>Eminem</td>\n",
       "      <td>Godzilla (feat. juice wrld)</td>\n",
       "      <td>0.808</td>\n",
       "    </tr>\n",
       "    <tr>\n",
       "      <th>31</th>\n",
       "      <td>Dua Lipa</td>\n",
       "      <td>Break my heart</td>\n",
       "      <td>0.730</td>\n",
       "    </tr>\n",
       "    <tr>\n",
       "      <th>32</th>\n",
       "      <td>Bts</td>\n",
       "      <td>Dynamite</td>\n",
       "      <td>0.746</td>\n",
       "    </tr>\n",
       "    <tr>\n",
       "      <th>33</th>\n",
       "      <td>Benee</td>\n",
       "      <td>Supalonely (feat. gus dapperton)</td>\n",
       "      <td>0.862</td>\n",
       "    </tr>\n",
       "    <tr>\n",
       "      <th>37</th>\n",
       "      <td>Post Malone</td>\n",
       "      <td>Sunflower - spider-man: into the spider-verse</td>\n",
       "      <td>0.755</td>\n",
       "    </tr>\n",
       "    <tr>\n",
       "      <th>38</th>\n",
       "      <td>Maluma</td>\n",
       "      <td>Hawái</td>\n",
       "      <td>0.783</td>\n",
       "    </tr>\n",
       "    <tr>\n",
       "      <th>39</th>\n",
       "      <td>Regard</td>\n",
       "      <td>Ride it</td>\n",
       "      <td>0.880</td>\n",
       "    </tr>\n",
       "    <tr>\n",
       "      <th>40</th>\n",
       "      <td>Travis Scott</td>\n",
       "      <td>Goosebumps</td>\n",
       "      <td>0.841</td>\n",
       "    </tr>\n",
       "    <tr>\n",
       "      <th>41</th>\n",
       "      <td>Black Eyed Peas</td>\n",
       "      <td>Ritmo (bad boys for life)</td>\n",
       "      <td>0.723</td>\n",
       "    </tr>\n",
       "    <tr>\n",
       "      <th>42</th>\n",
       "      <td>The Scotts</td>\n",
       "      <td>The scotts</td>\n",
       "      <td>0.716</td>\n",
       "    </tr>\n",
       "    <tr>\n",
       "      <th>49</th>\n",
       "      <td>Travis Scott</td>\n",
       "      <td>Sicko mode</td>\n",
       "      <td>0.834</td>\n",
       "    </tr>\n",
       "  </tbody>\n",
       "</table>\n",
       "</div>"
      ],
      "text/plain": [
       "             artist                                     track_name  \\\n",
       "Id                                                                   \n",
       "1       Tones And I                                   Dance monkey   \n",
       "2       Roddy Ricch                                        The box   \n",
       "3         Saint Jhn                          Roses - imanbek remix   \n",
       "4          Dua Lipa                                Don't start now   \n",
       "5            Dababy                   Rockstar (feat. roddy ricch)   \n",
       "7             Powfu               Death bed (coffee for your head)   \n",
       "8     Trevor Daniel                                        Falling   \n",
       "10          Karol G                                           Tusa   \n",
       "13        Lil Mosey                                Blueberry faygo   \n",
       "14    Justin Bieber                       Intentions (feat. quavo)   \n",
       "15            Drake                                   Toosie slide   \n",
       "17         Doja Cat                                         Say so   \n",
       "18         Maroon 5                                       Memories   \n",
       "19           Future                     Life is good (feat. drake)   \n",
       "20        Jawsh 685               Savage love (laxed - siren beat)   \n",
       "22            Topic                                    Breaking me   \n",
       "24    Billie Eilish                            Everything i wanted   \n",
       "25     Shawn Mendes                                       Señorita   \n",
       "26    Billie Eilish                                        Bad guy   \n",
       "27          Cardi B                Wap (feat. megan thee stallion)   \n",
       "28         Surfaces                                    Sunday best   \n",
       "29           Eminem                    Godzilla (feat. juice wrld)   \n",
       "31         Dua Lipa                                 Break my heart   \n",
       "32              Bts                                       Dynamite   \n",
       "33            Benee               Supalonely (feat. gus dapperton)   \n",
       "37      Post Malone  Sunflower - spider-man: into the spider-verse   \n",
       "38           Maluma                                          Hawái   \n",
       "39           Regard                                        Ride it   \n",
       "40     Travis Scott                                     Goosebumps   \n",
       "41  Black Eyed Peas                      Ritmo (bad boys for life)   \n",
       "42       The Scotts                                     The scotts   \n",
       "49     Travis Scott                                     Sicko mode   \n",
       "\n",
       "    danceability  \n",
       "Id                \n",
       "1          0.825  \n",
       "2          0.896  \n",
       "3          0.785  \n",
       "4          0.793  \n",
       "5          0.746  \n",
       "7          0.726  \n",
       "8          0.784  \n",
       "10         0.803  \n",
       "13         0.774  \n",
       "14         0.806  \n",
       "15         0.830  \n",
       "17         0.787  \n",
       "18         0.764  \n",
       "19         0.795  \n",
       "20         0.767  \n",
       "22         0.789  \n",
       "24         0.704  \n",
       "25         0.759  \n",
       "26         0.701  \n",
       "27         0.935  \n",
       "28         0.878  \n",
       "29         0.808  \n",
       "31         0.730  \n",
       "32         0.746  \n",
       "33         0.862  \n",
       "37         0.755  \n",
       "38         0.783  \n",
       "39         0.880  \n",
       "40         0.841  \n",
       "41         0.723  \n",
       "42         0.716  \n",
       "49         0.834  "
      ]
     },
     "execution_count": 65,
     "metadata": {},
     "output_type": "execute_result"
    }
   ],
   "source": [
    "high_danceability_tracks = spotify_data[spotify_data['danceability'].gt(0.7)]\n",
    "print(len(high_danceability_tracks))\n",
    "high_danceability_tracks[['artist', 'track_name', 'danceability']]  # Aditional filtering for readabilaty"
   ]
  },
  {
   "cell_type": "markdown",
   "metadata": {},
   "source": [
    "After filtering songs with low danceabilaty we can see that there is only **1** song with daceabilaty score lower than 0.4. Considering data we got before (Danceabilaty mean being ~0.71, and 32 songs being above that threshold) there is some basis for hypothesis that songs danceabilaty may strongly influence songs abilaty to become top 50. "
   ]
  },
  {
   "cell_type": "code",
   "execution_count": 47,
   "metadata": {},
   "outputs": [
    {
     "name": "stdout",
     "output_type": "stream",
     "text": [
      "1\n"
     ]
    },
    {
     "data": {
      "text/html": [
       "<div>\n",
       "<style scoped>\n",
       "    .dataframe tbody tr th:only-of-type {\n",
       "        vertical-align: middle;\n",
       "    }\n",
       "\n",
       "    .dataframe tbody tr th {\n",
       "        vertical-align: top;\n",
       "    }\n",
       "\n",
       "    .dataframe thead th {\n",
       "        text-align: right;\n",
       "    }\n",
       "</style>\n",
       "<table border=\"1\" class=\"dataframe\">\n",
       "  <thead>\n",
       "    <tr style=\"text-align: right;\">\n",
       "      <th></th>\n",
       "      <th>artist</th>\n",
       "      <th>track_name</th>\n",
       "      <th>danceability</th>\n",
       "    </tr>\n",
       "    <tr>\n",
       "      <th>Id</th>\n",
       "      <th></th>\n",
       "      <th></th>\n",
       "      <th></th>\n",
       "    </tr>\n",
       "  </thead>\n",
       "  <tbody>\n",
       "    <tr>\n",
       "      <th>44</th>\n",
       "      <td>Billie Eilish</td>\n",
       "      <td>Lovely (with khalid)</td>\n",
       "      <td>0.351</td>\n",
       "    </tr>\n",
       "  </tbody>\n",
       "</table>\n",
       "</div>"
      ],
      "text/plain": [
       "           artist            track_name  danceability\n",
       "Id                                                   \n",
       "44  Billie Eilish  Lovely (with khalid)         0.351"
      ]
     },
     "execution_count": 47,
     "metadata": {},
     "output_type": "execute_result"
    }
   ],
   "source": [
    "low_danceability_tracks = spotify_data[spotify_data['danceability'].lt(0.4)]\n",
    "print(len(low_danceability_tracks))\n",
    "low_danceability_tracks[['artist', 'track_name', 'danceability']]"
   ]
  },
  {
   "cell_type": "markdown",
   "metadata": {},
   "source": [
    "Similar filtering can be applied to loudness. Using code below we can see that in total there are **19** songs that have loudness of more than -5."
   ]
  },
  {
   "cell_type": "code",
   "execution_count": 48,
   "metadata": {},
   "outputs": [
    {
     "name": "stdout",
     "output_type": "stream",
     "text": [
      "19\n"
     ]
    },
    {
     "data": {
      "text/html": [
       "<div>\n",
       "<style scoped>\n",
       "    .dataframe tbody tr th:only-of-type {\n",
       "        vertical-align: middle;\n",
       "    }\n",
       "\n",
       "    .dataframe tbody tr th {\n",
       "        vertical-align: top;\n",
       "    }\n",
       "\n",
       "    .dataframe thead th {\n",
       "        text-align: right;\n",
       "    }\n",
       "</style>\n",
       "<table border=\"1\" class=\"dataframe\">\n",
       "  <thead>\n",
       "    <tr style=\"text-align: right;\">\n",
       "      <th></th>\n",
       "      <th>artist</th>\n",
       "      <th>track_name</th>\n",
       "      <th>loudness</th>\n",
       "    </tr>\n",
       "    <tr>\n",
       "      <th>Id</th>\n",
       "      <th></th>\n",
       "      <th></th>\n",
       "      <th></th>\n",
       "    </tr>\n",
       "  </thead>\n",
       "  <tbody>\n",
       "    <tr>\n",
       "      <th>4</th>\n",
       "      <td>Dua Lipa</td>\n",
       "      <td>Don't start now</td>\n",
       "      <td>-4.521</td>\n",
       "    </tr>\n",
       "    <tr>\n",
       "      <th>6</th>\n",
       "      <td>Harry Styles</td>\n",
       "      <td>Watermelon sugar</td>\n",
       "      <td>-4.209</td>\n",
       "    </tr>\n",
       "    <tr>\n",
       "      <th>10</th>\n",
       "      <td>Karol G</td>\n",
       "      <td>Tusa</td>\n",
       "      <td>-3.280</td>\n",
       "    </tr>\n",
       "    <tr>\n",
       "      <th>12</th>\n",
       "      <td>Post Malone</td>\n",
       "      <td>Circles</td>\n",
       "      <td>-3.497</td>\n",
       "    </tr>\n",
       "    <tr>\n",
       "      <th>16</th>\n",
       "      <td>Lewis Capaldi</td>\n",
       "      <td>Before you go</td>\n",
       "      <td>-4.858</td>\n",
       "    </tr>\n",
       "    <tr>\n",
       "      <th>17</th>\n",
       "      <td>Doja Cat</td>\n",
       "      <td>Say so</td>\n",
       "      <td>-4.577</td>\n",
       "    </tr>\n",
       "    <tr>\n",
       "      <th>21</th>\n",
       "      <td>Harry Styles</td>\n",
       "      <td>Adore you</td>\n",
       "      <td>-3.675</td>\n",
       "    </tr>\n",
       "    <tr>\n",
       "      <th>23</th>\n",
       "      <td>24Kgoldn</td>\n",
       "      <td>Mood (feat. iann dior)</td>\n",
       "      <td>-3.558</td>\n",
       "    </tr>\n",
       "    <tr>\n",
       "      <th>31</th>\n",
       "      <td>Dua Lipa</td>\n",
       "      <td>Break my heart</td>\n",
       "      <td>-3.434</td>\n",
       "    </tr>\n",
       "    <tr>\n",
       "      <th>32</th>\n",
       "      <td>Bts</td>\n",
       "      <td>Dynamite</td>\n",
       "      <td>-4.410</td>\n",
       "    </tr>\n",
       "    <tr>\n",
       "      <th>33</th>\n",
       "      <td>Benee</td>\n",
       "      <td>Supalonely (feat. gus dapperton)</td>\n",
       "      <td>-4.746</td>\n",
       "    </tr>\n",
       "    <tr>\n",
       "      <th>35</th>\n",
       "      <td>Lady Gaga</td>\n",
       "      <td>Rain on me (with ariana grande)</td>\n",
       "      <td>-3.764</td>\n",
       "    </tr>\n",
       "    <tr>\n",
       "      <th>37</th>\n",
       "      <td>Post Malone</td>\n",
       "      <td>Sunflower - spider-man: into the spider-verse</td>\n",
       "      <td>-4.368</td>\n",
       "    </tr>\n",
       "    <tr>\n",
       "      <th>38</th>\n",
       "      <td>Maluma</td>\n",
       "      <td>Hawái</td>\n",
       "      <td>-3.454</td>\n",
       "    </tr>\n",
       "    <tr>\n",
       "      <th>39</th>\n",
       "      <td>Regard</td>\n",
       "      <td>Ride it</td>\n",
       "      <td>-4.258</td>\n",
       "    </tr>\n",
       "    <tr>\n",
       "      <th>40</th>\n",
       "      <td>Travis Scott</td>\n",
       "      <td>Goosebumps</td>\n",
       "      <td>-3.370</td>\n",
       "    </tr>\n",
       "    <tr>\n",
       "      <th>43</th>\n",
       "      <td>Bad Bunny</td>\n",
       "      <td>Safaera</td>\n",
       "      <td>-4.074</td>\n",
       "    </tr>\n",
       "    <tr>\n",
       "      <th>48</th>\n",
       "      <td>Dua Lipa</td>\n",
       "      <td>Physical</td>\n",
       "      <td>-3.756</td>\n",
       "    </tr>\n",
       "    <tr>\n",
       "      <th>49</th>\n",
       "      <td>Travis Scott</td>\n",
       "      <td>Sicko mode</td>\n",
       "      <td>-3.714</td>\n",
       "    </tr>\n",
       "  </tbody>\n",
       "</table>\n",
       "</div>"
      ],
      "text/plain": [
       "           artist                                     track_name  loudness\n",
       "Id                                                                        \n",
       "4        Dua Lipa                                Don't start now    -4.521\n",
       "6    Harry Styles                               Watermelon sugar    -4.209\n",
       "10        Karol G                                           Tusa    -3.280\n",
       "12    Post Malone                                        Circles    -3.497\n",
       "16  Lewis Capaldi                                  Before you go    -4.858\n",
       "17       Doja Cat                                         Say so    -4.577\n",
       "21   Harry Styles                                      Adore you    -3.675\n",
       "23       24Kgoldn                         Mood (feat. iann dior)    -3.558\n",
       "31       Dua Lipa                                 Break my heart    -3.434\n",
       "32            Bts                                       Dynamite    -4.410\n",
       "33          Benee               Supalonely (feat. gus dapperton)    -4.746\n",
       "35      Lady Gaga                Rain on me (with ariana grande)    -3.764\n",
       "37    Post Malone  Sunflower - spider-man: into the spider-verse    -4.368\n",
       "38         Maluma                                          Hawái    -3.454\n",
       "39         Regard                                        Ride it    -4.258\n",
       "40   Travis Scott                                     Goosebumps    -3.370\n",
       "43      Bad Bunny                                        Safaera    -4.074\n",
       "48       Dua Lipa                                       Physical    -3.756\n",
       "49   Travis Scott                                     Sicko mode    -3.714"
      ]
     },
     "execution_count": 48,
     "metadata": {},
     "output_type": "execute_result"
    }
   ],
   "source": [
    "high_loudness = spotify_data[spotify_data['loudness'].gt(-5)]\n",
    "print(len(high_loudness))\n",
    "high_loudness[['artist', 'track_name', 'loudness']]"
   ]
  },
  {
   "cell_type": "markdown",
   "metadata": {},
   "source": [
    "When we check for less loud songs ( loudness lower than -8), we see that there are **9** songs. This may imply that songs loudness have less correlation with it being popular than danceabilaty, but to prove this hipothesis more extensive research must be conducted."
   ]
  },
  {
   "cell_type": "code",
   "execution_count": 49,
   "metadata": {},
   "outputs": [
    {
     "name": "stdout",
     "output_type": "stream",
     "text": [
      "9\n"
     ]
    },
    {
     "data": {
      "text/html": [
       "<div>\n",
       "<style scoped>\n",
       "    .dataframe tbody tr th:only-of-type {\n",
       "        vertical-align: middle;\n",
       "    }\n",
       "\n",
       "    .dataframe tbody tr th {\n",
       "        vertical-align: top;\n",
       "    }\n",
       "\n",
       "    .dataframe thead th {\n",
       "        text-align: right;\n",
       "    }\n",
       "</style>\n",
       "<table border=\"1\" class=\"dataframe\">\n",
       "  <thead>\n",
       "    <tr style=\"text-align: right;\">\n",
       "      <th></th>\n",
       "      <th>artist</th>\n",
       "      <th>track_name</th>\n",
       "      <th>loudness</th>\n",
       "    </tr>\n",
       "    <tr>\n",
       "      <th>Id</th>\n",
       "      <th></th>\n",
       "      <th></th>\n",
       "      <th></th>\n",
       "    </tr>\n",
       "  </thead>\n",
       "  <tbody>\n",
       "    <tr>\n",
       "      <th>7</th>\n",
       "      <td>Powfu</td>\n",
       "      <td>Death bed (coffee for your head)</td>\n",
       "      <td>-8.765</td>\n",
       "    </tr>\n",
       "    <tr>\n",
       "      <th>8</th>\n",
       "      <td>Trevor Daniel</td>\n",
       "      <td>Falling</td>\n",
       "      <td>-8.756</td>\n",
       "    </tr>\n",
       "    <tr>\n",
       "      <th>15</th>\n",
       "      <td>Drake</td>\n",
       "      <td>Toosie slide</td>\n",
       "      <td>-8.820</td>\n",
       "    </tr>\n",
       "    <tr>\n",
       "      <th>20</th>\n",
       "      <td>Jawsh 685</td>\n",
       "      <td>Savage love (laxed - siren beat)</td>\n",
       "      <td>-8.520</td>\n",
       "    </tr>\n",
       "    <tr>\n",
       "      <th>24</th>\n",
       "      <td>Billie Eilish</td>\n",
       "      <td>Everything i wanted</td>\n",
       "      <td>-14.454</td>\n",
       "    </tr>\n",
       "    <tr>\n",
       "      <th>26</th>\n",
       "      <td>Billie Eilish</td>\n",
       "      <td>Bad guy</td>\n",
       "      <td>-10.965</td>\n",
       "    </tr>\n",
       "    <tr>\n",
       "      <th>36</th>\n",
       "      <td>Travis Scott</td>\n",
       "      <td>Highest in the room</td>\n",
       "      <td>-8.764</td>\n",
       "    </tr>\n",
       "    <tr>\n",
       "      <th>44</th>\n",
       "      <td>Billie Eilish</td>\n",
       "      <td>Lovely (with khalid)</td>\n",
       "      <td>-10.109</td>\n",
       "    </tr>\n",
       "    <tr>\n",
       "      <th>47</th>\n",
       "      <td>Jp Saxe</td>\n",
       "      <td>If the world was ending - feat. julia michaels</td>\n",
       "      <td>-10.086</td>\n",
       "    </tr>\n",
       "  </tbody>\n",
       "</table>\n",
       "</div>"
      ],
      "text/plain": [
       "           artist                                      track_name  loudness\n",
       "Id                                                                         \n",
       "7           Powfu                Death bed (coffee for your head)    -8.765\n",
       "8   Trevor Daniel                                         Falling    -8.756\n",
       "15          Drake                                    Toosie slide    -8.820\n",
       "20      Jawsh 685                Savage love (laxed - siren beat)    -8.520\n",
       "24  Billie Eilish                             Everything i wanted   -14.454\n",
       "26  Billie Eilish                                         Bad guy   -10.965\n",
       "36   Travis Scott                             Highest in the room    -8.764\n",
       "44  Billie Eilish                            Lovely (with khalid)   -10.109\n",
       "47        Jp Saxe  If the world was ending - feat. julia michaels   -10.086"
      ]
     },
     "execution_count": 49,
     "metadata": {},
     "output_type": "execute_result"
    }
   ],
   "source": [
    "low_loudness = spotify_data[spotify_data['loudness'].lt(-8)]\n",
    "print(len(low_loudness))\n",
    "low_loudness[['artist', 'track_name', 'loudness']]"
   ]
  },
  {
   "cell_type": "markdown",
   "metadata": {},
   "source": [
    "Song duration also may give some usefull insights, for that reason using code below we can check longest and shortest songs. "
   ]
  },
  {
   "cell_type": "code",
   "execution_count": 50,
   "metadata": {},
   "outputs": [
    {
     "data": {
      "text/plain": [
       "artist                Travis Scott\n",
       "album                   Astroworld\n",
       "track_name              Sicko mode\n",
       "energy                        0.73\n",
       "danceability                 0.834\n",
       "loudness                    -3.714\n",
       "acousticness               0.00513\n",
       "speechiness                  0.222\n",
       "instrumentalness               0.0\n",
       "liveness                     0.124\n",
       "valence                      0.446\n",
       "tempo                      155.008\n",
       "duration_ms                 312820\n",
       "genre               [Hip-hop, Rap]\n",
       "Name: 49, dtype: object"
      ]
     },
     "execution_count": 50,
     "metadata": {},
     "output_type": "execute_result"
    }
   ],
   "source": [
    "spotify_data.loc[spotify_data['duration_ms'].idxmax()]  # Returns row located where biggest duration_ms value is"
   ]
  },
  {
   "cell_type": "code",
   "execution_count": 51,
   "metadata": {},
   "outputs": [
    {
     "data": {
      "text/plain": [
       "artist                            24Kgoldn\n",
       "album               Mood (feat. iann dior)\n",
       "track_name          Mood (feat. iann dior)\n",
       "energy                               0.722\n",
       "danceability                           0.7\n",
       "loudness                            -3.558\n",
       "acousticness                         0.221\n",
       "speechiness                         0.0369\n",
       "instrumentalness                       0.0\n",
       "liveness                             0.272\n",
       "valence                              0.756\n",
       "tempo                               90.989\n",
       "duration_ms                         140526\n",
       "genre                           [Pop, Rap]\n",
       "Name: 23, dtype: object"
      ]
     },
     "execution_count": 51,
     "metadata": {},
     "output_type": "execute_result"
    }
   ],
   "source": [
    "spotify_data.loc[spotify_data['duration_ms'].idxmin()]"
   ]
  },
  {
   "cell_type": "markdown",
   "metadata": {},
   "source": [
    "Original dataset's feature \"genre\" is quite ambigious. For this reason genre related analysis may have some discrepancies, but in our case after quick filtering we can see that there are <span style=\"color:red; font-weight:bold;\">21</span> music genres in total and most popular of them all is <span style=\"color:red; font-weight:bold;\">Pop</span> genre, which has <span style=\"color:red; font-weight:bold;\">17</span> songs belonging to it.\n"
   ]
  },
  {
   "cell_type": "code",
   "execution_count": 52,
   "metadata": {},
   "outputs": [
    {
     "name": "stdout",
     "output_type": "stream",
     "text": [
      "In total, there are 21 music genres in this dataset.\n"
     ]
    },
    {
     "data": {
      "text/plain": [
       "genre\n",
       "Pop             17\n",
       "Hip-hop         16\n",
       "Rap             14\n",
       "Alternative      6\n",
       "Dance            5\n",
       "Electronic       5\n",
       "R&b              4\n",
       "Indie            4\n",
       "Soul             2\n",
       "Electro-pop      2\n",
       "Disco            1\n",
       "Experimental     1\n",
       "Reggaeton        1\n",
       "Dreampop         1\n",
       "Disco-pop        1\n",
       "Soft             1\n",
       "Dance-pop        1\n",
       "Trap             1\n",
       "Rock             1\n",
       "Nu-disco         1\n",
       "Chamber          1\n",
       "Name: count, dtype: int64"
      ]
     },
     "execution_count": 52,
     "metadata": {},
     "output_type": "execute_result"
    }
   ],
   "source": [
    "exploded_data = spotify_data.explode('genre')\n",
    "genre_counts = exploded_data['genre'].value_counts()\n",
    "print(f\"In total, there are {len(genre_counts)} music genres in this dataset.\")\n",
    "genre_counts\n"
   ]
  },
  {
   "cell_type": "markdown",
   "metadata": {},
   "source": [
    "In case we are interested in ganres that have only 1 song in top 50, we can filter them out with code below."
   ]
  },
  {
   "cell_type": "code",
   "execution_count": 53,
   "metadata": {},
   "outputs": [
    {
     "data": {
      "text/plain": [
       "genre\n",
       "Disco           1\n",
       "Experimental    1\n",
       "Reggaeton       1\n",
       "Dreampop        1\n",
       "Disco-pop       1\n",
       "Soft            1\n",
       "Dance-pop       1\n",
       "Trap            1\n",
       "Rock            1\n",
       "Nu-disco        1\n",
       "Chamber         1\n",
       "Name: count, dtype: int64"
      ]
     },
     "execution_count": 53,
     "metadata": {},
     "output_type": "execute_result"
    }
   ],
   "source": [
    "single_song_genres = genre_counts[genre_counts.eq(1)]\n",
    "single_song_genres"
   ]
  },
  {
   "cell_type": "markdown",
   "metadata": {},
   "source": [
    "### <center> Data correlations <center>"
   ]
  },
  {
   "cell_type": "markdown",
   "metadata": {},
   "source": [
    "One of the most important questions for analysis of top 50 songs is: What makes song popular? To get insights that may help finding out answer its a good idea to check for feature correlation. Using code below we can plot a heatmap that shows correlations between all of the numerical features in our dataset."
   ]
  },
  {
   "cell_type": "code",
   "execution_count": 54,
   "metadata": {},
   "outputs": [
    {
     "data": {
      "image/png": "[encoded data removed]",
      "text/plain": [
       "<Figure size 1000x800 with 2 Axes>"
      ]
     },
     "metadata": {},
     "output_type": "display_data"
    }
   ],
   "source": [
    "correlation_matrix = spotify_data[['energy', 'danceability', 'loudness', 'acousticness','speechiness',\n",
    "                                   'instrumentalness', 'liveness', 'valence', 'tempo', 'duration_ms']].corr()\n",
    "\n",
    "# Create a heatmap\n",
    "plt.figure(figsize=(10, 8))\n",
    "sns.heatmap(correlation_matrix, annot=True, cmap='coolwarm', linewidths=.5)\n",
    "plt.title('Correlation Matrix Heatmap')\n",
    "plt.show()"
   ]
  },
  {
   "cell_type": "markdown",
   "metadata": {},
   "source": [
    "From heatmap above and aditional filtering below we can see that **energy** and **loudness** is strongly correlated (we consider features strongly correlated if their correlation value > 0,5). This just affirms notion that more energetic songs are louder."
   ]
  },
  {
   "cell_type": "code",
   "execution_count": 55,
   "metadata": {},
   "outputs": [
    {
     "data": {
      "text/plain": [
       "energy    loudness    0.79164\n",
       "loudness  energy      0.79164\n",
       "dtype: float64"
      ]
     },
     "execution_count": 55,
     "metadata": {},
     "output_type": "execute_result"
    }
   ],
   "source": [
    "filtered_positive_correlation = correlation_matrix[(correlation_matrix.gt(0.5)) &(correlation_matrix.ne(1))]\n",
    "positive_correlation_series = filtered_positive_correlation.stack()\n",
    "positive_correlation_series[positive_correlation_series.notnull()]"
   ]
  },
  {
   "cell_type": "markdown",
   "metadata": {},
   "source": [
    "Also when we filter for strong negative correlation, we get that **energy-acousticness** and **loudness-instrumentalness** are strongly negatively correlated. This may imply that more energetic songs are less acustic and that louder songs have less instrumentalness in them ( and vice versa)."
   ]
  },
  {
   "cell_type": "code",
   "execution_count": 56,
   "metadata": {},
   "outputs": [
    {
     "data": {
      "text/plain": [
       "energy            acousticness       -0.682479\n",
       "loudness          instrumentalness   -0.553735\n",
       "acousticness      energy             -0.682479\n",
       "instrumentalness  loudness           -0.553735\n",
       "dtype: float64"
      ]
     },
     "execution_count": 56,
     "metadata": {},
     "output_type": "execute_result"
    }
   ],
   "source": [
    "filtered_negative_correlation = correlation_matrix[(correlation_matrix.lt(-0.5))]\n",
    "negative_correlation_series = filtered_negative_correlation.stack()\n",
    "negative_correlation_series[negative_correlation_series.notnull()]"
   ]
  },
  {
   "cell_type": "markdown",
   "metadata": {},
   "source": [
    "Using code below we can filter out all the data that has no correlation ( we will consider that if absolute correlation value is < 0.1, features arent correlated)."
   ]
  },
  {
   "cell_type": "code",
   "execution_count": 57,
   "metadata": {},
   "outputs": [
    {
     "data": {
      "text/plain": [
       "energy            speechiness         0.074267\n",
       "                  liveness            0.069487\n",
       "                  tempo               0.075191\n",
       "                  duration_ms         0.081971\n",
       "danceability      instrumentalness   -0.017706\n",
       "                  liveness           -0.006648\n",
       "                  duration_ms        -0.033763\n",
       "loudness          speechiness        -0.021693\n",
       "                  liveness           -0.069939\n",
       "                  duration_ms         0.064130\n",
       "acousticness      duration_ms        -0.010988\n",
       "speechiness       energy              0.074267\n",
       "                  loudness           -0.021693\n",
       "                  instrumentalness    0.028948\n",
       "                  valence             0.053867\n",
       "instrumentalness  danceability       -0.017706\n",
       "                  speechiness         0.028948\n",
       "                  liveness           -0.087034\n",
       "                  tempo               0.018853\n",
       "liveness          energy              0.069487\n",
       "                  danceability       -0.006648\n",
       "                  loudness           -0.069939\n",
       "                  instrumentalness   -0.087034\n",
       "                  valence            -0.033366\n",
       "                  tempo               0.025457\n",
       "                  duration_ms        -0.090188\n",
       "valence           speechiness         0.053867\n",
       "                  liveness           -0.033366\n",
       "                  tempo               0.045089\n",
       "                  duration_ms        -0.039794\n",
       "tempo             energy              0.075191\n",
       "                  instrumentalness    0.018853\n",
       "                  liveness            0.025457\n",
       "                  valence             0.045089\n",
       "duration_ms       energy              0.081971\n",
       "                  danceability       -0.033763\n",
       "                  loudness            0.064130\n",
       "                  acousticness       -0.010988\n",
       "                  liveness           -0.090188\n",
       "                  valence            -0.039794\n",
       "dtype: float64"
      ]
     },
     "execution_count": 57,
     "metadata": {},
     "output_type": "execute_result"
    }
   ],
   "source": [
    "filtered_non_correlation = correlation_matrix[(correlation_matrix.lt(0.1)) &(correlation_matrix.gt(-0.1) )]\n",
    "non_correlation_series = filtered_non_correlation.stack()\n",
    "non_correlation_series[non_correlation_series.notnull()]"
   ]
  },
  {
   "cell_type": "markdown",
   "metadata": {},
   "source": [
    "### <center>Danceabilaty comparison<center> "
   ]
  },
  {
   "cell_type": "markdown",
   "metadata": {},
   "source": [
    "First off lets plot all the genres sorted by their danceabilaty mean value, using code below. As we can see Pop music has close to avarage danceabilaty. Using this information and fact that Pop music genre is most often in top 50 chart, there is possabilaty that our earlier hypothesis about link between danceabilaty and song reaching top 50 charts isnt as strong as first thought. "
   ]
  },
  {
   "cell_type": "code",
   "execution_count": 58,
   "metadata": {},
   "outputs": [
    {
     "data": {
      "image/png": "[encoded data removed]",
      "text/plain": [
       "<Figure size 1000x600 with 1 Axes>"
      ]
     },
     "metadata": {},
     "output_type": "display_data"
    }
   ],
   "source": [
    "grouped_data = exploded_data.groupby('genre')['danceability'].mean().sort_values(ascending=False).reset_index()\n",
    "warnings.simplefilter(action='ignore', category=FutureWarning)\n",
    "plt.figure(figsize=(10, 6))\n",
    "sns.barplot(x='danceability', y='genre', data=grouped_data, hue='genre', palette='viridis', dodge=False)\n",
    "plt.title('Mean Danceability Score by Genre')\n",
    "plt.ylabel('Genre')\n",
    "plt.show()"
   ]
  },
  {
   "cell_type": "markdown",
   "metadata": {},
   "source": [
    "As its told in task, for future analysis we will use only specific genres, which are listed in code below as \"selected_genre\"."
   ]
  },
  {
   "cell_type": "code",
   "execution_count": 59,
   "metadata": {},
   "outputs": [
    {
     "data": {
      "text/html": [
       "<div>\n",
       "<style scoped>\n",
       "    .dataframe tbody tr th:only-of-type {\n",
       "        vertical-align: middle;\n",
       "    }\n",
       "\n",
       "    .dataframe tbody tr th {\n",
       "        vertical-align: top;\n",
       "    }\n",
       "\n",
       "    .dataframe thead th {\n",
       "        text-align: right;\n",
       "    }\n",
       "</style>\n",
       "<table border=\"1\" class=\"dataframe\">\n",
       "  <thead>\n",
       "    <tr style=\"text-align: right;\">\n",
       "      <th></th>\n",
       "      <th>count</th>\n",
       "      <th>mean</th>\n",
       "      <th>std</th>\n",
       "      <th>min</th>\n",
       "      <th>25%</th>\n",
       "      <th>50%</th>\n",
       "      <th>75%</th>\n",
       "      <th>max</th>\n",
       "    </tr>\n",
       "    <tr>\n",
       "      <th>genre</th>\n",
       "      <th></th>\n",
       "      <th></th>\n",
       "      <th></th>\n",
       "      <th></th>\n",
       "      <th></th>\n",
       "      <th></th>\n",
       "      <th></th>\n",
       "      <th></th>\n",
       "    </tr>\n",
       "  </thead>\n",
       "  <tbody>\n",
       "    <tr>\n",
       "      <th>Alternative</th>\n",
       "      <td>6.0</td>\n",
       "      <td>0.673000</td>\n",
       "      <td>0.173714</td>\n",
       "      <td>0.459</td>\n",
       "      <td>0.5275</td>\n",
       "      <td>0.6955</td>\n",
       "      <td>0.81475</td>\n",
       "      <td>0.862</td>\n",
       "    </tr>\n",
       "    <tr>\n",
       "      <th>Dance</th>\n",
       "      <td>5.0</td>\n",
       "      <td>0.755000</td>\n",
       "      <td>0.094744</td>\n",
       "      <td>0.647</td>\n",
       "      <td>0.6740</td>\n",
       "      <td>0.7850</td>\n",
       "      <td>0.78900</td>\n",
       "      <td>0.880</td>\n",
       "    </tr>\n",
       "    <tr>\n",
       "      <th>Electronic</th>\n",
       "      <td>5.0</td>\n",
       "      <td>0.755000</td>\n",
       "      <td>0.094744</td>\n",
       "      <td>0.647</td>\n",
       "      <td>0.6740</td>\n",
       "      <td>0.7850</td>\n",
       "      <td>0.78900</td>\n",
       "      <td>0.880</td>\n",
       "    </tr>\n",
       "    <tr>\n",
       "      <th>Indie</th>\n",
       "      <td>4.0</td>\n",
       "      <td>0.661750</td>\n",
       "      <td>0.211107</td>\n",
       "      <td>0.459</td>\n",
       "      <td>0.4905</td>\n",
       "      <td>0.6630</td>\n",
       "      <td>0.83425</td>\n",
       "      <td>0.862</td>\n",
       "    </tr>\n",
       "    <tr>\n",
       "      <th>Pop</th>\n",
       "      <td>17.0</td>\n",
       "      <td>0.660706</td>\n",
       "      <td>0.127353</td>\n",
       "      <td>0.351</td>\n",
       "      <td>0.5970</td>\n",
       "      <td>0.6950</td>\n",
       "      <td>0.75900</td>\n",
       "      <td>0.806</td>\n",
       "    </tr>\n",
       "    <tr>\n",
       "      <th>Rap</th>\n",
       "      <td>14.0</td>\n",
       "      <td>0.760857</td>\n",
       "      <td>0.083964</td>\n",
       "      <td>0.598</td>\n",
       "      <td>0.7185</td>\n",
       "      <td>0.7705</td>\n",
       "      <td>0.82450</td>\n",
       "      <td>0.896</td>\n",
       "    </tr>\n",
       "  </tbody>\n",
       "</table>\n",
       "</div>"
      ],
      "text/plain": [
       "             count      mean       std    min     25%     50%      75%    max\n",
       "genre                                                                        \n",
       "Alternative    6.0  0.673000  0.173714  0.459  0.5275  0.6955  0.81475  0.862\n",
       "Dance          5.0  0.755000  0.094744  0.647  0.6740  0.7850  0.78900  0.880\n",
       "Electronic     5.0  0.755000  0.094744  0.647  0.6740  0.7850  0.78900  0.880\n",
       "Indie          4.0  0.661750  0.211107  0.459  0.4905  0.6630  0.83425  0.862\n",
       "Pop           17.0  0.660706  0.127353  0.351  0.5970  0.6950  0.75900  0.806\n",
       "Rap           14.0  0.760857  0.083964  0.598  0.7185  0.7705  0.82450  0.896"
      ]
     },
     "execution_count": 59,
     "metadata": {},
     "output_type": "execute_result"
    }
   ],
   "source": [
    "selected_genres = ['Pop', 'Hip-Hop', 'Rap', 'Dance', 'Electronic', 'Alternative','Indie']\n",
    "exploded_data[exploded_data['genre'].isin(selected_genres)].groupby('genre')['danceability'].describe()\n",
    "\n"
   ]
  },
  {
   "cell_type": "markdown",
   "metadata": {},
   "source": [
    "By looking at description table above we can see that Hip-Hop, Rap, Dance, Electronic genres tend to have higher mean danceability scores and lower variability, while Alternative and Indie genres have lower mean danceability scores with higher variability. Pop falls in between, with a moderate mean and variability."
   ]
  },
  {
   "cell_type": "code",
   "execution_count": 60,
   "metadata": {},
   "outputs": [
    {
     "data": {
      "image/png": "[encoded data removed]",
      "text/plain": [
       "<Figure size 1000x600 with 1 Axes>"
      ]
     },
     "metadata": {},
     "output_type": "display_data"
    }
   ],
   "source": [
    "filtered_genre_data = grouped_data[grouped_data['genre'].isin(selected_genres)]\n",
    "plt.figure(figsize=(10, 6))\n",
    "sns.barplot(x='danceability', y='genre', data=filtered_genre_data, hue='genre', palette='viridis', dodge=False)\n",
    "plt.title('Mean Danceability Score by Genre')\n",
    "plt.ylabel('Genre')\n",
    "plt.show()"
   ]
  },
  {
   "cell_type": "markdown",
   "metadata": {},
   "source": [
    "Code below does plots similar graph as above just for loudness. Also we are using absolute values to increase readabilaty."
   ]
  },
  {
   "cell_type": "code",
   "execution_count": 61,
   "metadata": {},
   "outputs": [
    {
     "data": {
      "image/png": "[encoded data removed]",
      "text/plain": [
       "<Figure size 1000x600 with 1 Axes>"
      ]
     },
     "metadata": {},
     "output_type": "display_data"
    }
   ],
   "source": [
    "grouped_loudness_data = exploded_data.groupby('genre')['loudness'].mean().abs().sort_values(ascending=False).reset_index()\n",
    "warnings.simplefilter(action='ignore', category=FutureWarning)\n",
    "plt.figure(figsize=(10, 6))\n",
    "sns.barplot(x='loudness', y='genre', data=grouped_loudness_data, hue='genre', palette='viridis', dodge=False)\n",
    "plt.title('Mean Loudness Score by Genre')\n",
    "plt.ylabel('Genre')\n",
    "plt.show()"
   ]
  },
  {
   "cell_type": "code",
   "execution_count": 62,
   "metadata": {},
   "outputs": [
    {
     "data": {
      "text/html": [
       "<div>\n",
       "<style scoped>\n",
       "    .dataframe tbody tr th:only-of-type {\n",
       "        vertical-align: middle;\n",
       "    }\n",
       "\n",
       "    .dataframe tbody tr th {\n",
       "        vertical-align: top;\n",
       "    }\n",
       "\n",
       "    .dataframe thead th {\n",
       "        text-align: right;\n",
       "    }\n",
       "</style>\n",
       "<table border=\"1\" class=\"dataframe\">\n",
       "  <thead>\n",
       "    <tr style=\"text-align: right;\">\n",
       "      <th></th>\n",
       "      <th>count</th>\n",
       "      <th>mean</th>\n",
       "      <th>std</th>\n",
       "      <th>min</th>\n",
       "      <th>25%</th>\n",
       "      <th>50%</th>\n",
       "      <th>75%</th>\n",
       "      <th>max</th>\n",
       "    </tr>\n",
       "    <tr>\n",
       "      <th>genre</th>\n",
       "      <th></th>\n",
       "      <th></th>\n",
       "      <th></th>\n",
       "      <th></th>\n",
       "      <th></th>\n",
       "      <th></th>\n",
       "      <th></th>\n",
       "      <th></th>\n",
       "    </tr>\n",
       "  </thead>\n",
       "  <tbody>\n",
       "    <tr>\n",
       "      <th>Alternative</th>\n",
       "      <td>6.0</td>\n",
       "      <td>-5.752333</td>\n",
       "      <td>1.677945</td>\n",
       "      <td>-8.756</td>\n",
       "      <td>-6.2205</td>\n",
       "      <td>-5.2685</td>\n",
       "      <td>-4.774</td>\n",
       "      <td>-4.074</td>\n",
       "    </tr>\n",
       "    <tr>\n",
       "      <th>Dance</th>\n",
       "      <td>5.0</td>\n",
       "      <td>-5.338000</td>\n",
       "      <td>1.479047</td>\n",
       "      <td>-7.567</td>\n",
       "      <td>-5.6520</td>\n",
       "      <td>-5.4570</td>\n",
       "      <td>-4.258</td>\n",
       "      <td>-3.756</td>\n",
       "    </tr>\n",
       "    <tr>\n",
       "      <th>Electronic</th>\n",
       "      <td>5.0</td>\n",
       "      <td>-5.338000</td>\n",
       "      <td>1.479047</td>\n",
       "      <td>-7.567</td>\n",
       "      <td>-5.6520</td>\n",
       "      <td>-5.4570</td>\n",
       "      <td>-4.258</td>\n",
       "      <td>-3.756</td>\n",
       "    </tr>\n",
       "    <tr>\n",
       "      <th>Indie</th>\n",
       "      <td>4.0</td>\n",
       "      <td>-5.421000</td>\n",
       "      <td>0.774502</td>\n",
       "      <td>-6.401</td>\n",
       "      <td>-5.8595</td>\n",
       "      <td>-5.2685</td>\n",
       "      <td>-4.830</td>\n",
       "      <td>-4.746</td>\n",
       "    </tr>\n",
       "    <tr>\n",
       "      <th>Pop</th>\n",
       "      <td>17.0</td>\n",
       "      <td>-6.329941</td>\n",
       "      <td>3.044926</td>\n",
       "      <td>-14.454</td>\n",
       "      <td>-7.2090</td>\n",
       "      <td>-6.6370</td>\n",
       "      <td>-3.675</td>\n",
       "      <td>-3.280</td>\n",
       "    </tr>\n",
       "    <tr>\n",
       "      <th>Rap</th>\n",
       "      <td>14.0</td>\n",
       "      <td>-6.677857</td>\n",
       "      <td>2.027303</td>\n",
       "      <td>-8.820</td>\n",
       "      <td>-8.3790</td>\n",
       "      <td>-7.2755</td>\n",
       "      <td>-5.349</td>\n",
       "      <td>-3.370</td>\n",
       "    </tr>\n",
       "  </tbody>\n",
       "</table>\n",
       "</div>"
      ],
      "text/plain": [
       "             count      mean       std     min     25%     50%    75%    max\n",
       "genre                                                                       \n",
       "Alternative    6.0 -5.752333  1.677945  -8.756 -6.2205 -5.2685 -4.774 -4.074\n",
       "Dance          5.0 -5.338000  1.479047  -7.567 -5.6520 -5.4570 -4.258 -3.756\n",
       "Electronic     5.0 -5.338000  1.479047  -7.567 -5.6520 -5.4570 -4.258 -3.756\n",
       "Indie          4.0 -5.421000  0.774502  -6.401 -5.8595 -5.2685 -4.830 -4.746\n",
       "Pop           17.0 -6.329941  3.044926 -14.454 -7.2090 -6.6370 -3.675 -3.280\n",
       "Rap           14.0 -6.677857  2.027303  -8.820 -8.3790 -7.2755 -5.349 -3.370"
      ]
     },
     "execution_count": 62,
     "metadata": {},
     "output_type": "execute_result"
    }
   ],
   "source": [
    "exploded_data[exploded_data['genre'].isin(selected_genres)].groupby('genre')['loudness'].describe()"
   ]
  },
  {
   "cell_type": "markdown",
   "metadata": {},
   "source": [
    "Looking at data above we can say that Pop tends to have a wider range of loudness values with a higher mean, while Hip-Hop, Rap, Dance, Electronic genres have lower mean loudness with a more consistent loudness level. Alternative and Indie genres also have lower mean loudness values with moderate variability."
   ]
  },
  {
   "cell_type": "code",
   "execution_count": 63,
   "metadata": {},
   "outputs": [
    {
     "data": {
      "image/png": "[encoded data removed]",
      "text/plain": [
       "<Figure size 1000x600 with 1 Axes>"
      ]
     },
     "metadata": {},
     "output_type": "display_data"
    }
   ],
   "source": [
    "grouped_acousticness_data = exploded_data.groupby('genre')['acousticness'].mean().abs().sort_values(ascending=False).reset_index()\n",
    "warnings.simplefilter(action='ignore', category=FutureWarning)\n",
    "plt.figure(figsize=(10, 6))\n",
    "sns.barplot(x='acousticness', y='genre', data=grouped_acousticness_data, hue='genre', palette='viridis', dodge=False)\n",
    "plt.title('Mean Acousticness Score by Genre')\n",
    "plt.ylabel('Genre')\n",
    "plt.show()"
   ]
  },
  {
   "cell_type": "code",
   "execution_count": 64,
   "metadata": {},
   "outputs": [
    {
     "data": {
      "text/html": [
       "<div>\n",
       "<style scoped>\n",
       "    .dataframe tbody tr th:only-of-type {\n",
       "        vertical-align: middle;\n",
       "    }\n",
       "\n",
       "    .dataframe tbody tr th {\n",
       "        vertical-align: top;\n",
       "    }\n",
       "\n",
       "    .dataframe thead th {\n",
       "        text-align: right;\n",
       "    }\n",
       "</style>\n",
       "<table border=\"1\" class=\"dataframe\">\n",
       "  <thead>\n",
       "    <tr style=\"text-align: right;\">\n",
       "      <th></th>\n",
       "      <th>count</th>\n",
       "      <th>mean</th>\n",
       "      <th>std</th>\n",
       "      <th>min</th>\n",
       "      <th>25%</th>\n",
       "      <th>50%</th>\n",
       "      <th>75%</th>\n",
       "      <th>max</th>\n",
       "    </tr>\n",
       "    <tr>\n",
       "      <th>genre</th>\n",
       "      <th></th>\n",
       "      <th></th>\n",
       "      <th></th>\n",
       "      <th></th>\n",
       "      <th></th>\n",
       "      <th></th>\n",
       "      <th></th>\n",
       "      <th></th>\n",
       "    </tr>\n",
       "  </thead>\n",
       "  <tbody>\n",
       "    <tr>\n",
       "      <th>Alternative</th>\n",
       "      <td>6.0</td>\n",
       "      <td>0.411217</td>\n",
       "      <td>0.312244</td>\n",
       "      <td>0.01030</td>\n",
       "      <td>0.165000</td>\n",
       "      <td>0.4475</td>\n",
       "      <td>0.66700</td>\n",
       "      <td>0.751</td>\n",
       "    </tr>\n",
       "    <tr>\n",
       "      <th>Dance</th>\n",
       "      <td>5.0</td>\n",
       "      <td>0.099440</td>\n",
       "      <td>0.095828</td>\n",
       "      <td>0.01370</td>\n",
       "      <td>0.014900</td>\n",
       "      <td>0.0686</td>\n",
       "      <td>0.17700</td>\n",
       "      <td>0.223</td>\n",
       "    </tr>\n",
       "    <tr>\n",
       "      <th>Electronic</th>\n",
       "      <td>5.0</td>\n",
       "      <td>0.099440</td>\n",
       "      <td>0.095828</td>\n",
       "      <td>0.01370</td>\n",
       "      <td>0.014900</td>\n",
       "      <td>0.0686</td>\n",
       "      <td>0.17700</td>\n",
       "      <td>0.223</td>\n",
       "    </tr>\n",
       "    <tr>\n",
       "      <th>Indie</th>\n",
       "      <td>4.0</td>\n",
       "      <td>0.583500</td>\n",
       "      <td>0.204086</td>\n",
       "      <td>0.29100</td>\n",
       "      <td>0.525750</td>\n",
       "      <td>0.6460</td>\n",
       "      <td>0.70375</td>\n",
       "      <td>0.751</td>\n",
       "    </tr>\n",
       "    <tr>\n",
       "      <th>Pop</th>\n",
       "      <td>17.0</td>\n",
       "      <td>0.345929</td>\n",
       "      <td>0.326702</td>\n",
       "      <td>0.02100</td>\n",
       "      <td>0.122000</td>\n",
       "      <td>0.2230</td>\n",
       "      <td>0.34900</td>\n",
       "      <td>0.934</td>\n",
       "    </tr>\n",
       "    <tr>\n",
       "      <th>Rap</th>\n",
       "      <td>14.0</td>\n",
       "      <td>0.191045</td>\n",
       "      <td>0.179291</td>\n",
       "      <td>0.00513</td>\n",
       "      <td>0.071425</td>\n",
       "      <td>0.1760</td>\n",
       "      <td>0.23375</td>\n",
       "      <td>0.731</td>\n",
       "    </tr>\n",
       "  </tbody>\n",
       "</table>\n",
       "</div>"
      ],
      "text/plain": [
       "             count      mean       std      min       25%     50%      75%  \\\n",
       "genre                                                                        \n",
       "Alternative    6.0  0.411217  0.312244  0.01030  0.165000  0.4475  0.66700   \n",
       "Dance          5.0  0.099440  0.095828  0.01370  0.014900  0.0686  0.17700   \n",
       "Electronic     5.0  0.099440  0.095828  0.01370  0.014900  0.0686  0.17700   \n",
       "Indie          4.0  0.583500  0.204086  0.29100  0.525750  0.6460  0.70375   \n",
       "Pop           17.0  0.345929  0.326702  0.02100  0.122000  0.2230  0.34900   \n",
       "Rap           14.0  0.191045  0.179291  0.00513  0.071425  0.1760  0.23375   \n",
       "\n",
       "               max  \n",
       "genre               \n",
       "Alternative  0.751  \n",
       "Dance        0.223  \n",
       "Electronic   0.223  \n",
       "Indie        0.751  \n",
       "Pop          0.934  \n",
       "Rap          0.731  "
      ]
     },
     "execution_count": 64,
     "metadata": {},
     "output_type": "execute_result"
    }
   ],
   "source": [
    "exploded_data[exploded_data['genre'].isin(selected_genres)].groupby('genre')['acousticness'].describe()"
   ]
  },
  {
   "cell_type": "markdown",
   "metadata": {},
   "source": [
    "Pop tends to have a wider range of acousticness values with a moderate mean, while Hip-Hop, Rap, Dance, Electronic genres have lower mean acousticness values with more consistent non-acoustic characteristics. Alternative and Indie genres have higher mean acousticness values with moderate variability."
   ]
  },
  {
   "cell_type": "markdown",
   "metadata": {},
   "source": [
    "## <center>Suggestions for future works<center>"
   ]
  },
  {
   "cell_type": "markdown",
   "metadata": {},
   "source": [
    "During this analysis only basic questions were asken and answered. As dataset is small and fixed to singular year, extremely extensive analysis isnt feasable, but its possible to make:\n",
    "* Comparisons with rest of features.\n",
    "* Filter songs by most popular artists (filter out artists with more than 1 top song and analyze individualy) and check if same artists songs are belonging to same ganre, thus giving insight if artist is popular or is genre hes playing.\n",
    "* Check which song features are prominent in most popular artists songs, look for factors that put them apart from genre song belongs to.\n",
    "* Expand dataset to include sales feature. There is possabilaty that most popular songs would have stronger correlation with specific features. \n",
    "* Expands presentation with graphs."
   ]
  }
 ],
 "metadata": {
  "kernelspec": {
   "display_name": ".venv",
   "language": "python",
   "name": "python3"
  },
  "language_info": {
   "codemirror_mode": {
    "name": "ipython",
    "version": 3
   },
   "file_extension": ".py",
   "mimetype": "text/x-python",
   "name": "python",
   "nbconvert_exporter": "python",
   "pygments_lexer": "ipython3",
   "version": "3.12.1"
  }
 },
 "nbformat": 4,
 "nbformat_minor": 2
}
